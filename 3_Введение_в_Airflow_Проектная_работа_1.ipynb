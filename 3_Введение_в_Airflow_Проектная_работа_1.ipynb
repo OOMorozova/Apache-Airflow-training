{
  "cells": [
    {
      "cell_type": "markdown",
      "metadata": {
        "id": "Z0I-IEE0ohyt"
      },
      "source": [
        "### Настройка Airflow\n",
        "\n",
        "Для начала вам необходимо выполнить ряд команд чтобы настроить окружение для дальнейшей работы, это позволит первое время не заниматься настройкой среды исполнения, а сразу начать писать код и работать с Airflow."
      ]
    },
    {
      "cell_type": "code",
      "execution_count": null,
      "metadata": {
        "id": "0unBvZMyx5H-"
      },
      "outputs": [],
      "source": [
        "# Установка Airflow\n",
        "!pip install apache-airflow==2.1.4\n",
        "\n",
        "# Инициализация базы данных\n",
        "!airflow db init"
      ]
    },
    {
      "cell_type": "code",
      "execution_count": null,
      "metadata": {
        "colab": {
          "base_uri": "https://localhost:8080/"
        },
        "id": "Ri_LIxa4z08a",
        "outputId": "d1c86be2-22ba-4c14-d114-fc7ea5508c41"
      },
      "outputs": [],
      "source": [
        "# Создадим необходимые папки\n",
        "!mkdir /root/airflow/dags\n",
        "!touch /root/airflow/dags/dag.py"
      ]
    },
    {
      "cell_type": "code",
      "execution_count": null,
      "metadata": {
        "colab": {
          "base_uri": "https://localhost:8080/"
        },
        "id": "Qx1Jfp2O0CBP",
        "outputId": "6cc946ee-b274-46ce-b3bc-ae106a3ede12"
      },
      "outputs": [],
      "source": [
        "# Включим веб-сервер\n",
        "!airflow webserver -p 18273 -D"
      ]
    },
    {
      "cell_type": "code",
      "execution_count": null,
      "metadata": {
        "colab": {
          "base_uri": "https://localhost:8080/"
        },
        "id": "6AicRo890Iyp",
        "outputId": "67eb40ca-c089-4a95-e562-2152e4a49f01"
      },
      "outputs": [],
      "source": [
        "# Создадим пользователя Airflow\n",
        "!airflow users create \\\n",
        "          --username admin \\\n",
        "          --firstname admin \\\n",
        "          --lastname admin \\\n",
        "          --role Admin \\\n",
        "          --email admin@example.org \\\n",
        "          -p 12345"
      ]
    },
    {
      "cell_type": "code",
      "execution_count": null,
      "metadata": {
        "colab": {
          "base_uri": "https://localhost:8080/"
        },
        "id": "kXlUN86A3m1o",
        "outputId": "de4127f7-fddc-4554-80d3-d48badc4d70e"
      },
      "outputs": [],
      "source": [
        "# Запуск шедулера\n",
        "!airflow scheduler -D"
      ]
    },
    {
      "cell_type": "code",
      "execution_count": null,
      "metadata": {
        "colab": {
          "base_uri": "https://localhost:8080/"
        },
        "id": "A7jJGmYR3nGP",
        "outputId": "dce31914-2b41-46ed-f1c0-96557b7f3dca"
      },
      "outputs": [],
      "source": [
        "# Последующие команды не имеют отношения к Airflow\n",
        "# Они нужни только для корректной работы веб морды\n",
        "# в среде Google Colab\n",
        "\n",
        "!pip install pyngrok\n",
        "!ngrok authtoken '' # найти его можно https://dashboard.ngrok.com/get-started/setup\n",
        "\n",
        "# Эта команда просто отображет веб морду на другой адрес\n",
        "# Его вы можете найти https://dashboard.ngrok.com/cloud-edge/status\n",
        "# При каждом отключении ссылка будет меняться\n",
        "!nohup ngrok http -log=stdout 18273 > /dev/null &"
      ]
    },
    {
      "cell_type": "markdown",
      "metadata": {
        "id": "6sbOlBAm4fUp"
      },
      "source": [
        "После запуска команды выше, перейдите по адресу в ngrok и подождите  пока появится DAG с именем dag"
      ]
    },
    {
      "cell_type": "markdown",
      "metadata": {
        "id": "yah1mva1eYMK"
      },
      "source": [
        "### Задача на разработку\n",
        "\n",
        "ETL скрипт переписать с помощью Airflow. Использовать только 1 дату 2021-01-01 можно прописать в функции напрямую, захардкодить.\n",
        "\n",
        "Вам необходимо обернуть ваш код в PythonOperator\n",
        "\n",
        "*   Скачайте валюту за 2021-01-01 и положите в БД sqlite (использовать\n",
        "PythonOperator чтобы скачать данные, можно использовать pandas)\n",
        "*   Скачайте данные за 2021-01-01 и положите в БД sqlite (использовать PythonOperator чтобы скачать данные, можно использовать pandas)\n",
        "\n",
        "\n",
        "Даг нужно написать в файл /root/airflow/dags/dag.py. Проверку можно сделать в веб интерфейсе. Прежде чем даг появится, может пройти ~ 2-3 минут."
      ]
    },
    {
      "cell_type": "code",
      "execution_count": null,
      "metadata": {
        "id": "IfJE9RhMgra6"
      },
      "outputs": [],
      "source": [
        "# Решение на разработку нужно оставить в этой ячейке\n",
        "import pandas as pd\n",
        "import sqlite3\n",
        "\n",
        "CON = sqlite3.connect('currency.db', isolation_level=None)\n",
        "\n",
        "\n",
        "from airflow import DAG\n",
        "from airflow.utils.dates import days_ago\n",
        "from airflow.operators.email_operator import EmailOperator\n",
        "from airflow.operators.python_operator import PythonOperator\n",
        "\n",
        "\n",
        "def extract_data(date, url, tmp_file):\n",
        "    url = f'{url}{date}.csv'\n",
        "    data = pd.read_csv(url).to_csv(tmp_file)\n",
        "    return data\n",
        "\n",
        "def sql_query(sql, conn=CON):\n",
        "  df = None\n",
        "  cursor = conn.cursor()\n",
        "  query = cursor.execute(sql)\n",
        "  if query.description:\n",
        "    df = pd.DataFrame.from_records(data = query.fetchall(), columns = [column[0] for column in query.description])\n",
        "  cursor.close()\n",
        "  return df\n",
        "\n",
        "def load_data(tmp_file, table_name, conn=CON, **context) -> None:\n",
        "    \"\"\" Load to DB\n",
        "    \"\"\"\n",
        "    data = pd.read_csv(tmp_file)# Изменение read_csv\n",
        "    data[\"insert_time\"] = pd.to_datetime(\"now\")\n",
        "    data.to_sql(table_name, conn, if_exists='replace', index=False)\n",
        "    count = sql_query(f\"select count(*) from '{table_name}'\")\n",
        "    print(f\"Records in table '{table_name}':\", count.values)\n",
        "\n",
        "with DAG(dag_id='dag',\n",
        "         default_args={'owner': 'airflow'},\n",
        "         schedule_interval='@daily',\n",
        "         start_date=days_ago(1)\n",
        "    ) as dag:\n",
        "\n",
        "    extract_data = PythonOperator(\n",
        "        task_id='extract_data',\n",
        "        python_callable=extract_data,\n",
        "        op_kwargs={'date': '2021-01-01',\n",
        "            'url': 'https://raw.githubusercontent.com/dm-novikov/stepik_airflow_course/main/data_new/',\n",
        "            'tmp_file': '/tmp/file.csv'},\n",
        "        dag=dag\n",
        "    )\n",
        "\n",
        "    load_data = PythonOperator(\n",
        "        task_id='load_data',\n",
        "        python_callable=load_data,\n",
        "        dag=dag,\n",
        "        op_kwargs={\n",
        "            'tmp_file': '/tmp/file.csv',\n",
        "            'table_name': 'currency'\n",
        "        }\n",
        "    )\n",
        "\n",
        "\n",
        "    extract_data >> load_data"
      ]
    },
    {
      "cell_type": "markdown",
      "metadata": {
        "id": "KUSIBT4_zRRW"
      },
      "source": [
        "![Снимок экрана 2023-04-05 в 12.43.29.png](data:image/png;base64,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)"
      ]
    },
    {
      "cell_type": "code",
      "execution_count": null,
      "metadata": {
        "colab": {
          "base_uri": "https://localhost:8080/",
          "height": 367
        },
        "id": "ZEFAtFwIsB0K",
        "outputId": "3106089e-6509-48e5-ca13-b75d075618bd"
      },
      "outputs": [
        {
          "name": "stdout",
          "output_type": "stream",
          "text": [
            "   sqlite:////content/currency.db\n",
            " * sqlite:////currency.db\n"
          ]
        },
        {
          "data": {
            "text/html": [
              "\n",
              "  <div id=\"df-83a98edb-fd53-4eb9-9053-9440aeb6e5d3\">\n",
              "    <div class=\"colab-df-container\">\n",
              "      <div>\n",
              "<style scoped>\n",
              "    .dataframe tbody tr th:only-of-type {\n",
              "        vertical-align: middle;\n",
              "    }\n",
              "\n",
              "    .dataframe tbody tr th {\n",
              "        vertical-align: top;\n",
              "    }\n",
              "\n",
              "    .dataframe thead th {\n",
              "        text-align: right;\n",
              "    }\n",
              "</style>\n",
              "<table border=\"1\" class=\"dataframe\">\n",
              "  <thead>\n",
              "    <tr style=\"text-align: right;\">\n",
              "      <th></th>\n",
              "      <th>Unnamed: 0</th>\n",
              "      <th>currency</th>\n",
              "      <th>value</th>\n",
              "      <th>date</th>\n",
              "      <th>insert_time</th>\n",
              "    </tr>\n",
              "  </thead>\n",
              "  <tbody>\n",
              "    <tr>\n",
              "      <th>0</th>\n",
              "      <td>0</td>\n",
              "      <td>EUR</td>\n",
              "      <td>38</td>\n",
              "      <td>2021-01-01</td>\n",
              "      <td>2023-04-05 09:42:11.947544</td>\n",
              "    </tr>\n",
              "    <tr>\n",
              "      <th>1</th>\n",
              "      <td>1</td>\n",
              "      <td>EUR</td>\n",
              "      <td>65</td>\n",
              "      <td>2021-01-01</td>\n",
              "      <td>2023-04-05 09:42:11.947544</td>\n",
              "    </tr>\n",
              "    <tr>\n",
              "      <th>2</th>\n",
              "      <td>2</td>\n",
              "      <td>EUR</td>\n",
              "      <td>74</td>\n",
              "      <td>2021-01-01</td>\n",
              "      <td>2023-04-05 09:42:11.947544</td>\n",
              "    </tr>\n",
              "    <tr>\n",
              "      <th>3</th>\n",
              "      <td>3</td>\n",
              "      <td>EUR</td>\n",
              "      <td>42</td>\n",
              "      <td>2021-01-01</td>\n",
              "      <td>2023-04-05 09:42:11.947544</td>\n",
              "    </tr>\n",
              "    <tr>\n",
              "      <th>4</th>\n",
              "      <td>4</td>\n",
              "      <td>EUR</td>\n",
              "      <td>23</td>\n",
              "      <td>2021-01-01</td>\n",
              "      <td>2023-04-05 09:42:11.947544</td>\n",
              "    </tr>\n",
              "    <tr>\n",
              "      <th>5</th>\n",
              "      <td>5</td>\n",
              "      <td>EUR</td>\n",
              "      <td>48</td>\n",
              "      <td>2021-01-01</td>\n",
              "      <td>2023-04-05 09:42:11.947544</td>\n",
              "    </tr>\n",
              "    <tr>\n",
              "      <th>6</th>\n",
              "      <td>6</td>\n",
              "      <td>EUR</td>\n",
              "      <td>86</td>\n",
              "      <td>2021-01-01</td>\n",
              "      <td>2023-04-05 09:42:11.947544</td>\n",
              "    </tr>\n",
              "    <tr>\n",
              "      <th>7</th>\n",
              "      <td>7</td>\n",
              "      <td>EUR</td>\n",
              "      <td>74</td>\n",
              "      <td>2021-01-01</td>\n",
              "      <td>2023-04-05 09:42:11.947544</td>\n",
              "    </tr>\n",
              "    <tr>\n",
              "      <th>8</th>\n",
              "      <td>8</td>\n",
              "      <td>EUR</td>\n",
              "      <td>24</td>\n",
              "      <td>2021-01-01</td>\n",
              "      <td>2023-04-05 09:42:11.947544</td>\n",
              "    </tr>\n",
              "  </tbody>\n",
              "</table>\n",
              "</div>\n",
              "      <button class=\"colab-df-convert\" onclick=\"convertToInteractive('df-83a98edb-fd53-4eb9-9053-9440aeb6e5d3')\"\n",
              "              title=\"Convert this dataframe to an interactive table.\"\n",
              "              style=\"display:none;\">\n",
              "        \n",
              "  <svg xmlns=\"http://www.w3.org/2000/svg\" height=\"24px\"viewBox=\"0 0 24 24\"\n",
              "       width=\"24px\">\n",
              "    <path d=\"M0 0h24v24H0V0z\" fill=\"none\"/>\n",
              "    <path d=\"M18.56 5.44l.94 2.06.94-2.06 2.06-.94-2.06-.94-.94-2.06-.94 2.06-2.06.94zm-11 1L8.5 8.5l.94-2.06 2.06-.94-2.06-.94L8.5 2.5l-.94 2.06-2.06.94zm10 10l.94 2.06.94-2.06 2.06-.94-2.06-.94-.94-2.06-.94 2.06-2.06.94z\"/><path d=\"M17.41 7.96l-1.37-1.37c-.4-.4-.92-.59-1.43-.59-.52 0-1.04.2-1.43.59L10.3 9.45l-7.72 7.72c-.78.78-.78 2.05 0 2.83L4 21.41c.39.39.9.59 1.41.59.51 0 1.02-.2 1.41-.59l7.78-7.78 2.81-2.81c.8-.78.8-2.07 0-2.86zM5.41 20L4 18.59l7.72-7.72 1.47 1.35L5.41 20z\"/>\n",
              "  </svg>\n",
              "      </button>\n",
              "      \n",
              "  <style>\n",
              "    .colab-df-container {\n",
              "      display:flex;\n",
              "      flex-wrap:wrap;\n",
              "      gap: 12px;\n",
              "    }\n",
              "\n",
              "    .colab-df-convert {\n",
              "      background-color: #E8F0FE;\n",
              "      border: none;\n",
              "      border-radius: 50%;\n",
              "      cursor: pointer;\n",
              "      display: none;\n",
              "      fill: #1967D2;\n",
              "      height: 32px;\n",
              "      padding: 0 0 0 0;\n",
              "      width: 32px;\n",
              "    }\n",
              "\n",
              "    .colab-df-convert:hover {\n",
              "      background-color: #E2EBFA;\n",
              "      box-shadow: 0px 1px 2px rgba(60, 64, 67, 0.3), 0px 1px 3px 1px rgba(60, 64, 67, 0.15);\n",
              "      fill: #174EA6;\n",
              "    }\n",
              "\n",
              "    [theme=dark] .colab-df-convert {\n",
              "      background-color: #3B4455;\n",
              "      fill: #D2E3FC;\n",
              "    }\n",
              "\n",
              "    [theme=dark] .colab-df-convert:hover {\n",
              "      background-color: #434B5C;\n",
              "      box-shadow: 0px 1px 3px 1px rgba(0, 0, 0, 0.15);\n",
              "      filter: drop-shadow(0px 1px 2px rgba(0, 0, 0, 0.3));\n",
              "      fill: #FFFFFF;\n",
              "    }\n",
              "  </style>\n",
              "\n",
              "      <script>\n",
              "        const buttonEl =\n",
              "          document.querySelector('#df-83a98edb-fd53-4eb9-9053-9440aeb6e5d3 button.colab-df-convert');\n",
              "        buttonEl.style.display =\n",
              "          google.colab.kernel.accessAllowed ? 'block' : 'none';\n",
              "\n",
              "        async function convertToInteractive(key) {\n",
              "          const element = document.querySelector('#df-83a98edb-fd53-4eb9-9053-9440aeb6e5d3');\n",
              "          const dataTable =\n",
              "            await google.colab.kernel.invokeFunction('convertToInteractive',\n",
              "                                                     [key], {});\n",
              "          if (!dataTable) return;\n",
              "\n",
              "          const docLinkHtml = 'Like what you see? Visit the ' +\n",
              "            '<a target=\"_blank\" href=https://colab.research.google.com/notebooks/data_table.ipynb>data table notebook</a>'\n",
              "            + ' to learn more about interactive tables.';\n",
              "          element.innerHTML = '';\n",
              "          dataTable['output_type'] = 'display_data';\n",
              "          await google.colab.output.renderOutput(dataTable, element);\n",
              "          const docLink = document.createElement('div');\n",
              "          docLink.innerHTML = docLinkHtml;\n",
              "          element.appendChild(docLink);\n",
              "        }\n",
              "      </script>\n",
              "    </div>\n",
              "  </div>\n",
              "  "
            ],
            "text/plain": [
              "   Unnamed: 0 currency  value        date                 insert_time\n",
              "0           0      EUR     38  2021-01-01  2023-04-05 09:42:11.947544\n",
              "1           1      EUR     65  2021-01-01  2023-04-05 09:42:11.947544\n",
              "2           2      EUR     74  2021-01-01  2023-04-05 09:42:11.947544\n",
              "3           3      EUR     42  2021-01-01  2023-04-05 09:42:11.947544\n",
              "4           4      EUR     23  2021-01-01  2023-04-05 09:42:11.947544\n",
              "5           5      EUR     48  2021-01-01  2023-04-05 09:42:11.947544\n",
              "6           6      EUR     86  2021-01-01  2023-04-05 09:42:11.947544\n",
              "7           7      EUR     74  2021-01-01  2023-04-05 09:42:11.947544\n",
              "8           8      EUR     24  2021-01-01  2023-04-05 09:42:11.947544"
            ]
          },
          "execution_count": 40,
          "metadata": {},
          "output_type": "execute_result"
        }
      ],
      "source": [
        "# чтобы првоерить решение можете обратиться к вашей базе данных таким образом\n",
        "%reload_ext sql\n",
        "\n",
        "%config SqlMagic.feedback=False\n",
        "\n",
        "%config SqlMagic.autopandas=True\n",
        "\n",
        "%sql sqlite:////currency.db\n",
        "\n",
        "%sql select * from currency"
      ]
    }
  ],
  "metadata": {
    "colab": {
      "provenance": []
    },
    "kernelspec": {
      "display_name": "Python 3",
      "name": "python3"
    },
    "language_info": {
      "name": "python"
    }
  },
  "nbformat": 4,
  "nbformat_minor": 0
}
