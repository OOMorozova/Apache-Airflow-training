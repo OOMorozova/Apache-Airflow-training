{
  "cells": [
    {
      "cell_type": "markdown",
      "metadata": {
        "id": "dKVsSmoLVx81"
      },
      "source": [
        "### Настройка окружения\n",
        "\n",
        "Для начала вам необходимо выполнить ряд команд чтобы настроить окружение для дальнейшей работы, это позволит первое время не заниматься долгим деплоем, а сразу начать писать код и работать с airflow."
      ]
    },
    {
      "cell_type": "code",
      "execution_count": null,
      "metadata": {
        "colab": {
          "base_uri": "https://localhost:8080/"
        },
        "id": "VHHKEJQSVn9G",
        "outputId": "4361c7c5-1e3d-49dc-b4a2-e70f5fd7cc2c"
      },
      "outputs": [],
      "source": [
        "# Установка Airflow\n",
        "!pip install apache-airflow==2.1.4\n",
        "\n",
        "!airflow db init"
      ]
    },
    {
      "cell_type": "code",
      "execution_count": null,
      "metadata": {
        "colab": {
          "base_uri": "https://localhost:8080/"
        },
        "id": "3D_wVrfCzkIG",
        "outputId": "bf61c532-d871-449c-d850-78653a7836fe"
      },
      "outputs": [],
      "source": [
        "# Создадим папку dags\n",
        "# В этой папке лежат скрипты для создания дагов\n",
        "# Это стандартное имя для  данной папки\n",
        "!mkdir /root/airflow/dags\n",
        "!touch /root/airflow/dags/dag.py"
      ]
    },
    {
      "cell_type": "code",
      "execution_count": null,
      "metadata": {
        "colab": {
          "base_uri": "https://localhost:8080/"
        },
        "id": "YS5E4byhXGDu",
        "outputId": "a96d57d5-6922-443e-d32f-64ad280cb653"
      },
      "outputs": [],
      "source": [
        "!airflow users create \\\n",
        "          --username admin \\\n",
        "          --firstname admin \\\n",
        "          --lastname admin \\\n",
        "          --role Admin \\\n",
        "          --email admin@example.org \\\n",
        "          -p 12345"
      ]
    },
    {
      "cell_type": "code",
      "execution_count": null,
      "metadata": {
        "colab": {
          "base_uri": "https://localhost:8080/"
        },
        "id": "iRbvIuUKEc4b",
        "outputId": "3e2d8ea2-4c12-4aff-dba7-724d2dfd4fb6"
      },
      "outputs": [],
      "source": [
        "# Включим веб-сервер\n",
        "!airflow webserver -p 18273 -D"
      ]
    },
    {
      "cell_type": "code",
      "execution_count": null,
      "metadata": {
        "colab": {
          "base_uri": "https://localhost:8080/"
        },
        "id": "EE6WIjd2Ect1",
        "outputId": "eaeafb07-108c-44c8-ae6c-144732b1c9d3"
      },
      "outputs": [],
      "source": [
        "# Запуск шедулера\n",
        "!airflow scheduler -D"
      ]
    },
    {
      "cell_type": "code",
      "execution_count": null,
      "metadata": {
        "colab": {
          "base_uri": "https://localhost:8080/"
        },
        "id": "UeQ0mgW7Eh4c",
        "outputId": "8634d271-f7cc-4bb3-dc06-5ad5d43ef79a"
      },
      "outputs": [],
      "source": [
        "# Последующие команды не имеют отношения к Airflow\n",
        "# Они нужни только для корректной работы веб морды\n",
        "# в среде Google Colab\n",
        "\n",
        "!pip install pyngrok\n",
        "!ngrok authtoken  # найти его можно https://dashboard.ngrok.com/get-started/setup \n",
        "\n",
        "# Эта команда просто отображет веб морду на другой адрес\n",
        "# Его вы можете найти https://dashboard.ngrok.com/cloud-edge/status\n",
        "# При каждом отключении ссылка будет меняться\n",
        "!nohup ngrok http 18273 > /dev/null &"
      ]
    },
    {
      "cell_type": "markdown",
      "metadata": {
        "id": "NYtYIZutPFOv"
      },
      "source": [
        "### Задача на разработку\n",
        "\n",
        "Xcom возвращает значение от 1 до 10. Необходимо реализовать BranchOperator который в зависимости от этого значения вернет одну из задач, больше или меньше. "
      ]
    },
    {
      "cell_type": "code",
      "execution_count": null,
      "metadata": {
        "colab": {
          "base_uri": "https://localhost:8080/"
        },
        "id": "5RZSvfnAPHHk",
        "outputId": "a7a3865c-f00b-4a3c-986d-fbf69277f868"
      },
      "outputs": [
        {
          "data": {
            "text/plain": [
              "[<Task(DummyOperator): lower>, <Task(DummyOperator): higher>]"
            ]
          },
          "execution_count": 14,
          "metadata": {},
          "output_type": "execute_result"
        }
      ],
      "source": [
        "## ВАШЕ РЕШЕНИЕ\n",
        "\n",
        "from airflow import DAG\n",
        "from airflow.operators.python import PythonOperator\n",
        "from datetime import datetime\n",
        "from airflow.operators.dummy import DummyOperator\n",
        "from airflow.operators.python_operator import BranchPythonOperator\n",
        "from random import randint\n",
        "\n",
        "default_args = {\n",
        "    'owner':'airflow',\n",
        "    'start_date': datetime(2022, 2, 16)\n",
        "}\n",
        "\n",
        "dag = DAG('dag', schedule_interval='@daily', default_args=default_args)\n",
        "\n",
        "def rand(**kwargs):\n",
        "  kwargs['ti'].xcom_push(key='rand', value=randint(0, 10))\n",
        "\n",
        "\n",
        "def branch(**kwargs):\n",
        "    xcom_value = int(kwargs['ti'].xcom_pull(task_ids='random_number', key='rand'))\n",
        "    if xcom_value >= 5:\n",
        "        return 'higher'\n",
        "    else:\n",
        "        return 'lower'\n",
        "\n",
        "lower = DummyOperator(\n",
        "    task_id = 'lower',\n",
        "    dag=dag\n",
        ")\n",
        "\n",
        "higher = DummyOperator(\n",
        "    task_id = 'higher',\n",
        "    dag=dag\n",
        ")\n",
        "\n",
        "branch_op = BranchPythonOperator(\n",
        "    task_id = 'branch_task',\n",
        "    provide_context = True,\n",
        "    python_callable=branch,\n",
        "    dag=dag\n",
        ")\n",
        "\n",
        "random_number = PythonOperator(\n",
        "    task_id = 'random_number',\n",
        "    python_callable=rand,\n",
        "    dag=dag\n",
        ")\n",
        "\n",
        "random_number >> branch_op >> [lower, higher]"
      ]
    }
  ],
  "metadata": {
    "colab": {
      "provenance": []
    },
    "kernelspec": {
      "display_name": "Python 3",
      "name": "python3"
    },
    "language_info": {
      "name": "python"
    }
  },
  "nbformat": 4,
  "nbformat_minor": 0
}
