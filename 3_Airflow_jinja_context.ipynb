{
  "cells": [
    {
      "cell_type": "code",
      "execution_count": null,
      "metadata": {
        "id": "Gix6ifxKSef0"
      },
      "outputs": [],
      "source": [
        "# Установка Airflow\n",
        "!pip install apache-airflow==2.1.4\n",
        "\n",
        "# Инициализация базы данных\n",
        "!airflow db init"
      ]
    },
    {
      "cell_type": "code",
      "execution_count": null,
      "metadata": {
        "colab": {
          "base_uri": "https://localhost:8080/"
        },
        "id": "e35kla8BSgBp",
        "outputId": "d5c480f3-e0e5-4840-f59c-b5782f6d6475"
      },
      "outputs": [],
      "source": [
        "# Создадим необходимые папки\n",
        "!mkdir /root/airflow/dags\n",
        "!touch /root/airflow/dags/dag.py"
      ]
    },
    {
      "cell_type": "code",
      "execution_count": null,
      "metadata": {
        "colab": {
          "base_uri": "https://localhost:8080/"
        },
        "id": "j2cWbBV0Si5C",
        "outputId": "874ae076-0e6d-4acd-c1ec-b8894d714d8c"
      },
      "outputs": [],
      "source": [
        "# Включим веб-сервер\n",
        "!airflow webserver -p 18273 -D"
      ]
    },
    {
      "cell_type": "code",
      "execution_count": null,
      "metadata": {
        "colab": {
          "base_uri": "https://localhost:8080/"
        },
        "id": "4o6TeWetSnhZ",
        "outputId": "32fa4166-16b0-44cb-d593-b18dc7b58236"
      },
      "outputs": [],
      "source": [
        "# Создадим пользователя Airflow\n",
        "!airflow users create \\\n",
        "          --username admin \\\n",
        "          --firstname admin \\\n",
        "          --lastname admin \\\n",
        "          --role Admin \\\n",
        "          --email admin@example.org \\\n",
        "          -p 12345"
      ]
    },
    {
      "cell_type": "code",
      "execution_count": null,
      "metadata": {
        "colab": {
          "base_uri": "https://localhost:8080/"
        },
        "id": "l1mmwb7bSorO",
        "outputId": "3b1c2b12-2c6e-4fd1-c714-364e6713314c"
      },
      "outputs": [],
      "source": [
        "# Запуск шедулера\n",
        "!airflow scheduler -D"
      ]
    },
    {
      "cell_type": "code",
      "execution_count": null,
      "metadata": {
        "colab": {
          "base_uri": "https://localhost:8080/"
        },
        "id": "sZ-MWhVtSsMF",
        "outputId": "11586cda-b83e-41ce-9c77-f5e8ee51ee66"
      },
      "outputs": [],
      "source": [
        "# Последующие команды не имеют отношения к Airflow\n",
        "# Они нужни только для корректной работы веб морды\n",
        "# в среде Google Colab\n",
        "\n",
        "!pip install pyngrok\n",
        "!ngrok authtoken '' # найти его можно https://dashboard.ngrok.com/get-started/setup \n",
        "\n",
        "# Эта команда просто отображет веб морду на другой адрес\n",
        "# Его вы можете найти https://dashboard.ngrok.com/cloud-edge/status\n",
        "# При каждом отключении ссылка будет меняться\n",
        "!nohup ngrok http -log=stdout 18273 > /dev/null &"
      ]
    },
    {
      "cell_type": "code",
      "execution_count": null,
      "metadata": {
        "id": "4lGqVNPUSvCX"
      },
      "outputs": [],
      "source": [
        "# Напишите функцию, с Jinja выражением, которая выводит четную последовательность от 1 до N-1.\n",
        "from airflow import DAG\n",
        "from datetime import timedelta\n",
        "from airflow.utils.dates import days_ago\n",
        "from airflow.operators.python import PythonOperator\n",
        "from jinja2 import Template\n",
        "\n",
        "def jinja(x):\n",
        "  x = int(x)\n",
        "  t = Template(\"{% for i in range(1, x) if i%2 == 0 %}{{i}} {% endfor %}\")\n",
        "  print(t.render(x=x))\n",
        "\n",
        "dag = DAG('dag',schedule_interval=timedelta(days=1), start_date=days_ago(1))\n",
        "\n",
        "def print_context(**context):\n",
        "    context['ti'].xcom_push(key='context_len', value=str(len(context)))\n",
        "\n",
        "run_this = PythonOperator(\n",
        "    task_id='print_the_context',\n",
        "    python_callable=print_context,\n",
        "    dag=dag,\n",
        ")\n",
        "\n",
        "ji = PythonOperator(\n",
        "    task_id='print_ji',\n",
        "    python_callable=jinja,\n",
        "    op_kwargs={'x': 10},\n",
        "    dag=dag,\n",
        ")"
      ]
    }
  ],
  "metadata": {
    "colab": {
      "provenance": []
    },
    "kernelspec": {
      "display_name": "Python 3",
      "name": "python3"
    },
    "language_info": {
      "name": "python"
    }
  },
  "nbformat": 4,
  "nbformat_minor": 0
}
