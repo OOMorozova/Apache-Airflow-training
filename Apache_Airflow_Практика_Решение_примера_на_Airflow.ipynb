{
  "nbformat": 4,
  "nbformat_minor": 0,
  "metadata": {
    "colab": {
      "provenance": []
    },
    "kernelspec": {
      "name": "python3",
      "display_name": "Python 3"
    },
    "language_info": {
      "name": "python"
    }
  },
  "cells": [
    {
      "cell_type": "markdown",
      "metadata": {
        "id": "Z0I-IEE0ohyt"
      },
      "source": [
        "### Настройка Airflow\n",
        "\n",
        "Для начала вам необходимо выполнить ряд команд чтобы настроить окружение для дальнейшей работы, это позволит первое время не заниматься настройкой среды исполнения, а сразу начать писать код и работать с Airflow."
      ]
    },
    {
      "cell_type": "code",
      "metadata": {
        "id": "0unBvZMyx5H-",
        "colab": {
          "base_uri": "https://localhost:8080/"
        },
        "outputId": "2832ab39-aea3-4782-bf75-c04308393c9b"
      },
      "source": [
        "# Установка Airflow\n",
        "!pip install apache-airflow==2.1.4\n",
        "\n",
        "# Инициализация базы данных\n",
        "!airflow db init"
      ],
      "execution_count": 11,
      "outputs": [
        {
          "output_type": "stream",
          "name": "stdout",
          "text": [
            "Looking in indexes: https://pypi.org/simple, https://us-python.pkg.dev/colab-wheels/public/simple/\n",
            "Requirement already satisfied: apache-airflow==2.1.4 in /usr/local/lib/python3.9/dist-packages (2.1.4)\n",
            "Requirement already satisfied: cattrs<1.7.0,~=1.1 in /usr/local/lib/python3.9/dist-packages (from apache-airflow==2.1.4) (1.5.0)\n",
            "Requirement already satisfied: flask-caching<2.0.0,>=1.5.0 in /usr/local/lib/python3.9/dist-packages (from apache-airflow==2.1.4) (1.11.1)\n",
            "Requirement already satisfied: clickclick>=1.2 in /usr/local/lib/python3.9/dist-packages (from apache-airflow==2.1.4) (20.10.2)\n",
            "Requirement already satisfied: apache-airflow-providers-imap in /usr/local/lib/python3.9/dist-packages (from apache-airflow==2.1.4) (3.1.1)\n",
            "Requirement already satisfied: itsdangerous<2.0,>=1.1.0 in /usr/local/lib/python3.9/dist-packages (from apache-airflow==2.1.4) (1.1.0)\n",
            "Requirement already satisfied: jinja2<4,>=2.10.1 in /usr/local/lib/python3.9/dist-packages (from apache-airflow==2.1.4) (2.11.3)\n",
            "Requirement already satisfied: apache-airflow-providers-ftp in /usr/local/lib/python3.9/dist-packages (from apache-airflow==2.1.4) (3.3.1)\n",
            "Requirement already satisfied: openapi-spec-validator>=0.2.4 in /usr/local/lib/python3.9/dist-packages (from apache-airflow==2.1.4) (0.4.0)\n",
            "Requirement already satisfied: swagger-ui-bundle>=0.0.2 in /usr/local/lib/python3.9/dist-packages (from apache-airflow==2.1.4) (0.0.9)\n",
            "Requirement already satisfied: argcomplete~=1.10 in /usr/local/lib/python3.9/dist-packages (from apache-airflow==2.1.4) (1.12.3)\n",
            "Requirement already satisfied: python-slugify<5.0,>=3.0.0 in /usr/local/lib/python3.9/dist-packages (from apache-airflow==2.1.4) (4.0.1)\n",
            "Requirement already satisfied: flask-login<0.5,>=0.3 in /usr/local/lib/python3.9/dist-packages (from apache-airflow==2.1.4) (0.4.1)\n",
            "Requirement already satisfied: lockfile>=0.12.2 in /usr/local/lib/python3.9/dist-packages (from apache-airflow==2.1.4) (0.12.2)\n",
            "Requirement already satisfied: python-dateutil<3,>=2.3 in /usr/local/lib/python3.9/dist-packages (from apache-airflow==2.1.4) (2.8.2)\n",
            "Requirement already satisfied: unicodecsv>=0.14.1 in /usr/local/lib/python3.9/dist-packages (from apache-airflow==2.1.4) (0.14.1)\n",
            "Requirement already satisfied: jsonschema~=3.0 in /usr/local/lib/python3.9/dist-packages (from apache-airflow==2.1.4) (3.2.0)\n",
            "Requirement already satisfied: blinker in /usr/local/lib/python3.9/dist-packages (from apache-airflow==2.1.4) (1.6)\n",
            "Requirement already satisfied: flask<2.0,>=1.1.0 in /usr/local/lib/python3.9/dist-packages (from apache-airflow==2.1.4) (1.1.4)\n",
            "Requirement already satisfied: pygments<3.0,>=2.0.1 in /usr/local/lib/python3.9/dist-packages (from apache-airflow==2.1.4) (2.14.0)\n",
            "Requirement already satisfied: sqlalchemy>=1.3.18 in /usr/local/lib/python3.9/dist-packages (from apache-airflow==2.1.4) (1.4.47)\n",
            "Requirement already satisfied: colorlog<6.0,>=4.0.2 in /usr/local/lib/python3.9/dist-packages (from apache-airflow==2.1.4) (5.0.1)\n",
            "Requirement already satisfied: werkzeug>=1.0.1,~=1.0 in /usr/local/lib/python3.9/dist-packages (from apache-airflow==2.1.4) (1.0.1)\n",
            "Requirement already satisfied: gunicorn>=19.5.0 in /usr/local/lib/python3.9/dist-packages (from apache-airflow==2.1.4) (20.1.0)\n",
            "Requirement already satisfied: apache-airflow-providers-http in /usr/local/lib/python3.9/dist-packages (from apache-airflow==2.1.4) (4.2.0)\n",
            "Requirement already satisfied: graphviz>=0.12 in /usr/local/lib/python3.9/dist-packages (from apache-airflow==2.1.4) (0.20.1)\n",
            "Requirement already satisfied: pandas<2.0,>=0.17.1 in /usr/local/lib/python3.9/dist-packages (from apache-airflow==2.1.4) (1.4.4)\n",
            "Requirement already satisfied: lazy-object-proxy in /usr/local/lib/python3.9/dist-packages (from apache-airflow==2.1.4) (1.9.0)\n",
            "Requirement already satisfied: markupsafe<2.0,>=1.1.1 in /usr/local/lib/python3.9/dist-packages (from apache-airflow==2.1.4) (1.1.1)\n",
            "Requirement already satisfied: flask-wtf<0.15,>=0.14.3 in /usr/local/lib/python3.9/dist-packages (from apache-airflow==2.1.4) (0.14.3)\n",
            "Requirement already satisfied: flask-appbuilder<4.0.0,>=3.3.2 in /usr/local/lib/python3.9/dist-packages (from apache-airflow==2.1.4) (3.4.5)\n",
            "Requirement already satisfied: tabulate<0.9,>=0.7.5 in /usr/local/lib/python3.9/dist-packages (from apache-airflow==2.1.4) (0.8.10)\n",
            "Requirement already satisfied: docutils<0.17 in /usr/local/lib/python3.9/dist-packages (from apache-airflow==2.1.4) (0.16)\n",
            "Requirement already satisfied: marshmallow-oneofschema>=2.0.1 in /usr/local/lib/python3.9/dist-packages (from apache-airflow==2.1.4) (3.0.1)\n",
            "Requirement already satisfied: tenacity~=6.2.0 in /usr/local/lib/python3.9/dist-packages (from apache-airflow==2.1.4) (6.2.0)\n",
            "Requirement already satisfied: attrs<21.0,>=20.0 in /usr/local/lib/python3.9/dist-packages (from apache-airflow==2.1.4) (20.3.0)\n",
            "Requirement already satisfied: pyyaml>=5.1 in /usr/local/lib/python3.9/dist-packages (from apache-airflow==2.1.4) (6.0)\n",
            "Requirement already satisfied: importlib-resources~=1.4 in /usr/local/lib/python3.9/dist-packages (from apache-airflow==2.1.4) (1.5.0)\n",
            "Requirement already satisfied: termcolor>=1.1.0 in /usr/local/lib/python3.9/dist-packages (from apache-airflow==2.1.4) (2.2.0)\n",
            "Requirement already satisfied: python3-openid~=3.2 in /usr/local/lib/python3.9/dist-packages (from apache-airflow==2.1.4) (3.2.0)\n",
            "Requirement already satisfied: markdown<4.0,>=2.5.2 in /usr/local/lib/python3.9/dist-packages (from apache-airflow==2.1.4) (3.4.3)\n",
            "Requirement already satisfied: pendulum~=2.0 in /usr/local/lib/python3.9/dist-packages (from apache-airflow==2.1.4) (2.1.2)\n",
            "Requirement already satisfied: apache-airflow-providers-sqlite in /usr/local/lib/python3.9/dist-packages (from apache-airflow==2.1.4) (3.3.1)\n",
            "Requirement already satisfied: httpx in /usr/local/lib/python3.9/dist-packages (from apache-airflow==2.1.4) (0.23.3)\n",
            "Requirement already satisfied: dill<0.4,>=0.2.2 in /usr/local/lib/python3.9/dist-packages (from apache-airflow==2.1.4) (0.3.6)\n",
            "Requirement already satisfied: pyjwt<2 in /usr/local/lib/python3.9/dist-packages (from apache-airflow==2.1.4) (1.7.1)\n",
            "Requirement already satisfied: alembic<2.0,>=1.2 in /usr/local/lib/python3.9/dist-packages (from apache-airflow==2.1.4) (1.10.2)\n",
            "Requirement already satisfied: croniter<1.1,>=0.3.17 in /usr/local/lib/python3.9/dist-packages (from apache-airflow==2.1.4) (1.0.15)\n",
            "Requirement already satisfied: numpy in /usr/local/lib/python3.9/dist-packages (from apache-airflow==2.1.4) (1.22.4)\n",
            "Requirement already satisfied: psutil<6.0.0,>=4.2.0 in /usr/local/lib/python3.9/dist-packages (from apache-airflow==2.1.4) (5.9.4)\n",
            "Requirement already satisfied: iso8601>=0.1.12 in /usr/local/lib/python3.9/dist-packages (from apache-airflow==2.1.4) (1.1.0)\n",
            "Requirement already satisfied: python-daemon>=2.2.4 in /usr/local/lib/python3.9/dist-packages (from apache-airflow==2.1.4) (3.0.1)\n",
            "Requirement already satisfied: rich>=9.2.0 in /usr/local/lib/python3.9/dist-packages (from apache-airflow==2.1.4) (13.3.3)\n",
            "Requirement already satisfied: sqlalchemy-jsonfield~=1.0 in /usr/local/lib/python3.9/dist-packages (from apache-airflow==2.1.4) (1.0.1.post0)\n",
            "Requirement already satisfied: cryptography>=0.9.3 in /usr/local/lib/python3.9/dist-packages (from apache-airflow==2.1.4) (40.0.1)\n",
            "Requirement already satisfied: inflection>=0.3.1 in /usr/local/lib/python3.9/dist-packages (from apache-airflow==2.1.4) (0.5.1)\n",
            "Requirement already satisfied: setproctitle<2,>=1.1.8 in /usr/local/lib/python3.9/dist-packages (from apache-airflow==2.1.4) (1.3.2)\n",
            "Requirement already satisfied: python-nvd3~=0.15.0 in /usr/local/lib/python3.9/dist-packages (from apache-airflow==2.1.4) (0.15.0)\n",
            "Requirement already satisfied: typing-extensions>=4 in /usr/local/lib/python3.9/dist-packages (from alembic<2.0,>=1.2->apache-airflow==2.1.4) (4.5.0)\n",
            "Requirement already satisfied: Mako in /usr/local/lib/python3.9/dist-packages (from alembic<2.0,>=1.2->apache-airflow==2.1.4) (1.2.4)\n",
            "Requirement already satisfied: click>=4.0 in /usr/local/lib/python3.9/dist-packages (from clickclick>=1.2->apache-airflow==2.1.4) (7.1.2)\n",
            "Requirement already satisfied: cffi>=1.12 in /usr/local/lib/python3.9/dist-packages (from cryptography>=0.9.3->apache-airflow==2.1.4) (1.15.1)\n",
            "Requirement already satisfied: Flask-Babel<3,>=1 in /usr/local/lib/python3.9/dist-packages (from flask-appbuilder<4.0.0,>=3.3.2->apache-airflow==2.1.4) (2.0.0)\n",
            "Requirement already satisfied: colorama<1,>=0.3.9 in /usr/local/lib/python3.9/dist-packages (from flask-appbuilder<4.0.0,>=3.3.2->apache-airflow==2.1.4) (0.4.6)\n",
            "Requirement already satisfied: WTForms<3.0.0 in /usr/local/lib/python3.9/dist-packages (from flask-appbuilder<4.0.0,>=3.3.2->apache-airflow==2.1.4) (2.3.3)\n",
            "Requirement already satisfied: marshmallow-enum<2,>=1.5.1 in /usr/local/lib/python3.9/dist-packages (from flask-appbuilder<4.0.0,>=3.3.2->apache-airflow==2.1.4) (1.5.1)\n",
            "Requirement already satisfied: Flask-SQLAlchemy<3,>=2.4 in /usr/local/lib/python3.9/dist-packages (from flask-appbuilder<4.0.0,>=3.3.2->apache-airflow==2.1.4) (2.5.1)\n",
            "Requirement already satisfied: sqlalchemy-utils<1,>=0.32.21 in /usr/local/lib/python3.9/dist-packages (from flask-appbuilder<4.0.0,>=3.3.2->apache-airflow==2.1.4) (0.40.0)\n",
            "Requirement already satisfied: email-validator<2,>=1.0.5 in /usr/local/lib/python3.9/dist-packages (from flask-appbuilder<4.0.0,>=3.3.2->apache-airflow==2.1.4) (1.3.1)\n",
            "Requirement already satisfied: apispec[yaml]<4,>=3.3 in /usr/local/lib/python3.9/dist-packages (from flask-appbuilder<4.0.0,>=3.3.2->apache-airflow==2.1.4) (3.3.2)\n",
            "Requirement already satisfied: Flask-JWT-Extended<4,>=3.18 in /usr/local/lib/python3.9/dist-packages (from flask-appbuilder<4.0.0,>=3.3.2->apache-airflow==2.1.4) (3.25.1)\n",
            "Requirement already satisfied: marshmallow<4,>=3 in /usr/local/lib/python3.9/dist-packages (from flask-appbuilder<4.0.0,>=3.3.2->apache-airflow==2.1.4) (3.19.0)\n",
            "Requirement already satisfied: marshmallow-sqlalchemy<0.27.0,>=0.22.0 in /usr/local/lib/python3.9/dist-packages (from flask-appbuilder<4.0.0,>=3.3.2->apache-airflow==2.1.4) (0.26.1)\n",
            "Requirement already satisfied: Flask-OpenID<2,>=1.2.5 in /usr/local/lib/python3.9/dist-packages (from flask-appbuilder<4.0.0,>=3.3.2->apache-airflow==2.1.4) (1.3.0)\n",
            "Requirement already satisfied: prison<1.0.0,>=0.2.1 in /usr/local/lib/python3.9/dist-packages (from flask-appbuilder<4.0.0,>=3.3.2->apache-airflow==2.1.4) (0.2.1)\n",
            "Requirement already satisfied: cachelib in /usr/local/lib/python3.9/dist-packages (from flask-caching<2.0.0,>=1.5.0->apache-airflow==2.1.4) (0.10.2)\n",
            "Requirement already satisfied: setuptools>=3.0 in /usr/local/lib/python3.9/dist-packages (from gunicorn>=19.5.0->apache-airflow==2.1.4) (67.6.1)\n",
            "Requirement already satisfied: six>=1.11.0 in /usr/local/lib/python3.9/dist-packages (from jsonschema~=3.0->apache-airflow==2.1.4) (1.16.0)\n",
            "Requirement already satisfied: pyrsistent>=0.14.0 in /usr/local/lib/python3.9/dist-packages (from jsonschema~=3.0->apache-airflow==2.1.4) (0.19.3)\n",
            "Requirement already satisfied: importlib-metadata>=4.4 in /usr/local/lib/python3.9/dist-packages (from markdown<4.0,>=2.5.2->apache-airflow==2.1.4) (6.1.0)\n",
            "Requirement already satisfied: openapi-schema-validator<0.3.0,>=0.2.0 in /usr/local/lib/python3.9/dist-packages (from openapi-spec-validator>=0.2.4->apache-airflow==2.1.4) (0.2.3)\n",
            "Requirement already satisfied: pytz>=2020.1 in /usr/local/lib/python3.9/dist-packages (from pandas<2.0,>=0.17.1->apache-airflow==2.1.4) (2022.7.1)\n",
            "Requirement already satisfied: pytzdata>=2020.1 in /usr/local/lib/python3.9/dist-packages (from pendulum~=2.0->apache-airflow==2.1.4) (2020.1)\n",
            "Requirement already satisfied: text-unidecode>=1.3 in /usr/local/lib/python3.9/dist-packages (from python-slugify<5.0,>=3.0.0->apache-airflow==2.1.4) (1.3)\n",
            "Requirement already satisfied: defusedxml in /usr/local/lib/python3.9/dist-packages (from python3-openid~=3.2->apache-airflow==2.1.4) (0.7.1)\n",
            "Requirement already satisfied: markdown-it-py<3.0.0,>=2.2.0 in /usr/local/lib/python3.9/dist-packages (from rich>=9.2.0->apache-airflow==2.1.4) (2.2.0)\n",
            "Requirement already satisfied: greenlet!=0.4.17 in /usr/local/lib/python3.9/dist-packages (from sqlalchemy>=1.3.18->apache-airflow==2.1.4) (2.0.2)\n",
            "Requirement already satisfied: aiohttp in /usr/local/lib/python3.9/dist-packages (from apache-airflow-providers-http->apache-airflow==2.1.4) (3.8.4)\n",
            "Requirement already satisfied: requests>=2.26.0 in /usr/local/lib/python3.9/dist-packages (from apache-airflow-providers-http->apache-airflow==2.1.4) (2.27.1)\n",
            "Requirement already satisfied: requests-toolbelt in /usr/local/lib/python3.9/dist-packages (from apache-airflow-providers-http->apache-airflow==2.1.4) (0.10.1)\n",
            "Requirement already satisfied: asgiref in /usr/local/lib/python3.9/dist-packages (from apache-airflow-providers-http->apache-airflow==2.1.4) (3.6.0)\n",
            "Requirement already satisfied: apache-airflow-providers-common-sql>=1.3.1 in /usr/local/lib/python3.9/dist-packages (from apache-airflow-providers-sqlite->apache-airflow==2.1.4) (1.3.4)\n",
            "Requirement already satisfied: sniffio in /usr/local/lib/python3.9/dist-packages (from httpx->apache-airflow==2.1.4) (1.3.0)\n",
            "Requirement already satisfied: certifi in /usr/local/lib/python3.9/dist-packages (from httpx->apache-airflow==2.1.4) (2022.12.7)\n",
            "Requirement already satisfied: httpcore<0.17.0,>=0.15.0 in /usr/local/lib/python3.9/dist-packages (from httpx->apache-airflow==2.1.4) (0.16.3)\n",
            "Requirement already satisfied: rfc3986[idna2008]<2,>=1.3 in /usr/local/lib/python3.9/dist-packages (from httpx->apache-airflow==2.1.4) (1.5.0)\n",
            "Requirement already satisfied: sqlparse>=0.4.2 in /usr/local/lib/python3.9/dist-packages (from apache-airflow-providers-common-sql>=1.3.1->apache-airflow-providers-sqlite->apache-airflow==2.1.4) (0.4.3)\n",
            "Requirement already satisfied: pycparser in /usr/local/lib/python3.9/dist-packages (from cffi>=1.12->cryptography>=0.9.3->apache-airflow==2.1.4) (2.21)\n",
            "Requirement already satisfied: dnspython>=1.15.0 in /usr/local/lib/python3.9/dist-packages (from email-validator<2,>=1.0.5->flask-appbuilder<4.0.0,>=3.3.2->apache-airflow==2.1.4) (2.3.0)\n",
            "Requirement already satisfied: idna>=2.0.0 in /usr/local/lib/python3.9/dist-packages (from email-validator<2,>=1.0.5->flask-appbuilder<4.0.0,>=3.3.2->apache-airflow==2.1.4) (3.4)\n",
            "Requirement already satisfied: Babel>=2.3 in /usr/local/lib/python3.9/dist-packages (from Flask-Babel<3,>=1->flask-appbuilder<4.0.0,>=3.3.2->apache-airflow==2.1.4) (2.12.1)\n",
            "Requirement already satisfied: h11<0.15,>=0.13 in /usr/local/lib/python3.9/dist-packages (from httpcore<0.17.0,>=0.15.0->httpx->apache-airflow==2.1.4) (0.14.0)\n",
            "Requirement already satisfied: anyio<5.0,>=3.0 in /usr/local/lib/python3.9/dist-packages (from httpcore<0.17.0,>=0.15.0->httpx->apache-airflow==2.1.4) (3.6.2)\n",
            "Requirement already satisfied: zipp>=0.5 in /usr/local/lib/python3.9/dist-packages (from importlib-metadata>=4.4->markdown<4.0,>=2.5.2->apache-airflow==2.1.4) (3.15.0)\n",
            "Requirement already satisfied: mdurl~=0.1 in /usr/local/lib/python3.9/dist-packages (from markdown-it-py<3.0.0,>=2.2.0->rich>=9.2.0->apache-airflow==2.1.4) (0.1.2)\n",
            "Requirement already satisfied: packaging>=17.0 in /usr/local/lib/python3.9/dist-packages (from marshmallow<4,>=3->flask-appbuilder<4.0.0,>=3.3.2->apache-airflow==2.1.4) (23.0)\n",
            "Requirement already satisfied: urllib3<1.27,>=1.21.1 in /usr/local/lib/python3.9/dist-packages (from requests>=2.26.0->apache-airflow-providers-http->apache-airflow==2.1.4) (1.26.15)\n",
            "Requirement already satisfied: charset-normalizer~=2.0.0 in /usr/local/lib/python3.9/dist-packages (from requests>=2.26.0->apache-airflow-providers-http->apache-airflow==2.1.4) (2.0.12)\n",
            "Requirement already satisfied: frozenlist>=1.1.1 in /usr/local/lib/python3.9/dist-packages (from aiohttp->apache-airflow-providers-http->apache-airflow==2.1.4) (1.3.3)\n",
            "Requirement already satisfied: aiosignal>=1.1.2 in /usr/local/lib/python3.9/dist-packages (from aiohttp->apache-airflow-providers-http->apache-airflow==2.1.4) (1.3.1)\n",
            "Requirement already satisfied: async-timeout<5.0,>=4.0.0a3 in /usr/local/lib/python3.9/dist-packages (from aiohttp->apache-airflow-providers-http->apache-airflow==2.1.4) (4.0.2)\n",
            "Requirement already satisfied: yarl<2.0,>=1.0 in /usr/local/lib/python3.9/dist-packages (from aiohttp->apache-airflow-providers-http->apache-airflow==2.1.4) (1.8.2)\n",
            "Requirement already satisfied: multidict<7.0,>=4.5 in /usr/local/lib/python3.9/dist-packages (from aiohttp->apache-airflow-providers-http->apache-airflow==2.1.4) (6.0.4)\n",
            "DB: sqlite:////root/airflow/airflow.db\n",
            "[\u001b[34m2023-04-05 08:15:29,610\u001b[0m] {\u001b[34mdb.py:\u001b[0m702} INFO\u001b[0m - Creating tables\u001b[0m\n",
            "\u001b[1;33m/usr/local/lib/python3.9/dist-packages/airflow/utils/\u001b[0m\u001b[1;33mdb.py\u001b[0m\u001b[1;33m:\u001b[0m\u001b[1;33m641\u001b[0m\u001b[1;33m SAWarning\u001b[0m\u001b[33m: relationship \u001b[0m\u001b[33m'DagRun.serialized_dag'\u001b[0m\u001b[33m will copy column serialized_dag.dag_id to column dag_run.dag_id, which conflicts with \u001b[0m\u001b[1;33mrelationship\u001b[0m\u001b[1;33m(\u001b[0m\u001b[33ms\u001b[0m\u001b[1;33m)\u001b[0m\u001b[33m: \u001b[0m\u001b[33m'DagRun.task_instances'\u001b[0m\u001b[33m \u001b[0m\u001b[1;33m(\u001b[0m\u001b[33mcopies task_instance.dag_id to dag_run.dag_id\u001b[0m\u001b[1;33m)\u001b[0m\u001b[33m, \u001b[0m\u001b[33m'TaskInstance.dag_run'\u001b[0m\u001b[33m \u001b[0m\u001b[1;33m(\u001b[0m\u001b[33mcopies task_instance.dag_id to dag_run.dag_id\u001b[0m\u001b[1;33m)\u001b[0m\u001b[33m. If this is not the intention, consider if these relationships should be linked with back_populates, or if \u001b[0m\u001b[33mviewonly\u001b[0m\u001b[33m=\u001b[0m\u001b[3;33mTrue\u001b[0m\u001b[33m should be applied to one or more if they are read-only. For the less common case that foreign key constraints are partially overlapping, the \u001b[0m\u001b[1;33morm.foreign\u001b[0m\u001b[1;33m(\u001b[0m\u001b[1;33m)\u001b[0m\u001b[33m annotation can be used to isolate the columns that should be written towards.   To silence this warning, add the parameter \u001b[0m\u001b[33m'\u001b[0m\u001b[33moverlaps\u001b[0m\u001b[33m=\u001b[0m\u001b[33m\"dag_run\u001b[0m\u001b[33m,task_instances\"'\u001b[0m\u001b[33m to the \u001b[0m\u001b[33m'DagRun.serialized_dag'\u001b[0m\u001b[33m relationship. \u001b[0m\u001b[1;33m(\u001b[0m\u001b[33mBackground on this error at: \u001b[0m\u001b[4;33mhttps://sqlalche.me/e/14/qzyx\u001b[0m\u001b[4;33m)\u001b[0m\n",
            "\u001b[1;33m/usr/local/lib/python3.9/dist-packages/airflow/utils/\u001b[0m\u001b[1;33mdb.py\u001b[0m\u001b[1;33m:\u001b[0m\u001b[1;33m641\u001b[0m\u001b[1;33m SAWarning\u001b[0m\u001b[33m: relationship \u001b[0m\u001b[33m'SerializedDagModel.dag_runs'\u001b[0m\u001b[33m will copy column serialized_dag.dag_id to column dag_run.dag_id, which conflicts with \u001b[0m\u001b[1;33mrelationship\u001b[0m\u001b[1;33m(\u001b[0m\u001b[33ms\u001b[0m\u001b[1;33m)\u001b[0m\u001b[33m: \u001b[0m\u001b[33m'DagRun.task_instances'\u001b[0m\u001b[33m \u001b[0m\u001b[1;33m(\u001b[0m\u001b[33mcopies task_instance.dag_id to dag_run.dag_id\u001b[0m\u001b[1;33m)\u001b[0m\u001b[33m, \u001b[0m\u001b[33m'TaskInstance.dag_run'\u001b[0m\u001b[33m \u001b[0m\u001b[1;33m(\u001b[0m\u001b[33mcopies task_instance.dag_id to dag_run.dag_id\u001b[0m\u001b[1;33m)\u001b[0m\u001b[33m. If this is not the intention, consider if these relationships should be linked with back_populates, or if \u001b[0m\u001b[33mviewonly\u001b[0m\u001b[33m=\u001b[0m\u001b[3;33mTrue\u001b[0m\u001b[33m should be applied to one or more if they are read-only. For the less common case that foreign key constraints are partially overlapping, the \u001b[0m\u001b[1;33morm.foreign\u001b[0m\u001b[1;33m(\u001b[0m\u001b[1;33m)\u001b[0m\u001b[33m annotation can be used to isolate the columns that should be written towards.   To silence this warning, add the parameter \u001b[0m\u001b[33m'\u001b[0m\u001b[33moverlaps\u001b[0m\u001b[33m=\u001b[0m\u001b[33m\"dag_run\u001b[0m\u001b[33m,task_instances\"'\u001b[0m\u001b[33m to the \u001b[0m\u001b[33m'SerializedDagModel.dag_runs'\u001b[0m\u001b[33m relationship. \u001b[0m\u001b[1;33m(\u001b[0m\u001b[33mBackground on this error at: \u001b[0m\u001b[4;33mhttps://sqlalche.me/e/14/qzyx\u001b[0m\u001b[4;33m)\u001b[0m\n",
            "INFO  [alembic.runtime.migration] Context impl SQLiteImpl.\n",
            "INFO  [alembic.runtime.migration] Will assume non-transactional DDL.\n",
            "WARNI [airflow.models.crypto] empty cryptography key - values will not be stored encrypted.\n",
            "ERROR [airflow.models.dagbag.DagBag] Failed to import: /root/airflow/dags/dag.py\n",
            "Traceback (most recent call last):\n",
            "  File \"/usr/local/lib/python3.9/dist-packages/airflow/models/dagbag.py\", line 326, in _load_modules_from_file\n",
            "    loader.exec_module(new_module)\n",
            "  File \"<frozen importlib._bootstrap_external>\", line 850, in exec_module\n",
            "  File \"<frozen importlib._bootstrap>\", line 228, in _call_with_frames_removed\n",
            "  File \"/root/airflow/dags/dag.py\", line 10, in <module>\n",
            "    t1 = DummyOperator(task_id='echo_1', dag=dag)\n",
            "  File \"/usr/local/lib/python3.9/dist-packages/airflow/models/baseoperator.py\", line 178, in apply_defaults\n",
            "    result = func(self, *args, **kwargs)\n",
            "  File \"/usr/local/lib/python3.9/dist-packages/airflow/operators/dummy.py\", line 34, in __init__\n",
            "    super().__init__(**kwargs)\n",
            "  File \"/usr/local/lib/python3.9/dist-packages/airflow/models/baseoperator.py\", line 178, in apply_defaults\n",
            "    result = func(self, *args, **kwargs)\n",
            "  File \"/usr/local/lib/python3.9/dist-packages/airflow/models/baseoperator.py\", line 627, in __init__\n",
            "    self.dag = dag or DagContext.get_current_dag()\n",
            "  File \"/usr/local/lib/python3.9/dist-packages/airflow/models/baseoperator.py\", line 733, in __setattr__\n",
            "    super().__setattr__(key, value)\n",
            "  File \"/usr/local/lib/python3.9/dist-packages/airflow/models/baseoperator.py\", line 784, in dag\n",
            "    dag.add_task(self)\n",
            "  File \"/usr/local/lib/python3.9/dist-packages/airflow/models/dag.py\", line 1604, in add_task\n",
            "    raise AirflowException(\"Task is missing the start_date parameter\")\n",
            "airflow.exceptions.AirflowException: Task is missing the start_date parameter\n",
            "WARNI [unusual_prefix_5f0d2ca2b87a38acfa9e8d7d075394df3fb63853_example_kubernetes_executor_config] Could not import DAGs in example_kubernetes_executor_config.py: No module named 'kubernetes'\n",
            "WARNI [unusual_prefix_5f0d2ca2b87a38acfa9e8d7d075394df3fb63853_example_kubernetes_executor_config] Install kubernetes dependencies with: pip install apache-airflow['cncf.kubernetes']\n",
            "\u001b[1;33m/usr/local/lib/python3.9/dist-packages/airflow/models/\u001b[0m\u001b[1;33mserialized_dag.py\u001b[0m\u001b[1;33m:\u001b[0m\u001b[1;33m120\u001b[0m\u001b[1;33m SAWarning\u001b[0m\u001b[33m: TypeDecorator \u001b[0m\u001b[1;33mUtcDateTime\u001b[0m\u001b[1;33m(\u001b[0m\u001b[33mtimezone\u001b[0m\u001b[33m=\u001b[0m\u001b[3;33mTrue\u001b[0m\u001b[1;33m)\u001b[0m\u001b[33m will not produce a cache key because the ``cache_ok`` attribute is not set to \u001b[0m\u001b[3;33mTrue\u001b[0m\u001b[33m.  This can have significant performance implications including some performance degradations in comparison to prior SQLAlchemy versions.  Set this attribute to \u001b[0m\u001b[3;33mTrue\u001b[0m\u001b[33m if this type object's state is safe to use in a cache key, or \u001b[0m\u001b[3;33mFalse\u001b[0m\u001b[33m to disable this warning. \u001b[0m\u001b[1;33m(\u001b[0m\u001b[33mBackground on this error at: \u001b[0m\u001b[4;33mhttps://sqlalche.me/e/14/cprf\u001b[0m\u001b[4;33m)\u001b[0m\n",
            "\u001b[1;33m/usr/local/lib/python3.9/dist-packages/airflow/models/\u001b[0m\u001b[1;33mdag.py\u001b[0m\u001b[1;33m:\u001b[0m\u001b[1;33m1859\u001b[0m\u001b[1;33m SAWarning\u001b[0m\u001b[33m: TypeDecorator \u001b[0m\u001b[1;33mUtcDateTime\u001b[0m\u001b[1;33m(\u001b[0m\u001b[33mtimezone\u001b[0m\u001b[33m=\u001b[0m\u001b[3;33mTrue\u001b[0m\u001b[1;33m)\u001b[0m\u001b[33m will not produce a cache key because the ``cache_ok`` attribute is not set to \u001b[0m\u001b[3;33mTrue\u001b[0m\u001b[33m.  This can have significant performance implications including some performance degradations in comparison to prior SQLAlchemy versions.  Set this attribute to \u001b[0m\u001b[3;33mTrue\u001b[0m\u001b[33m if this type object's state is safe to use in a cache key, or \u001b[0m\u001b[3;33mFalse\u001b[0m\u001b[33m to disable this warning. \u001b[0m\u001b[1;33m(\u001b[0m\u001b[33mBackground on this error at: \u001b[0m\u001b[4;33mhttps://sqlalche.me/e/14/cprf\u001b[0m\u001b[4;33m)\u001b[0m\n",
            "Initialization done\n"
          ]
        }
      ]
    },
    {
      "cell_type": "code",
      "metadata": {
        "id": "Ri_LIxa4z08a",
        "colab": {
          "base_uri": "https://localhost:8080/"
        },
        "outputId": "b4678d5e-f40d-4784-b84a-7ae317bec4ae"
      },
      "source": [
        "# Создадим необходимые папки\n",
        "!mkdir /root/airflow/dags\n",
        "!touch /root/airflow/dags/dag.py"
      ],
      "execution_count": 12,
      "outputs": [
        {
          "output_type": "stream",
          "name": "stdout",
          "text": [
            "mkdir: cannot create directory ‘/root/airflow/dags’: File exists\n"
          ]
        }
      ]
    },
    {
      "cell_type": "code",
      "metadata": {
        "id": "Qx1Jfp2O0CBP",
        "colab": {
          "base_uri": "https://localhost:8080/"
        },
        "outputId": "fa5a0ee1-58f2-4285-eb56-259f79f5249e"
      },
      "source": [
        "# Включим веб-сервер\n",
        "!airflow webserver -p 18273 -D"
      ],
      "execution_count": 13,
      "outputs": [
        {
          "output_type": "stream",
          "name": "stdout",
          "text": [
            "\u001b[1;33m/usr/local/lib/python3.9/dist-packages/flask_appbuilder/models/sqla/\u001b[0m\u001b[1;33minterface.py\u001b[0m\u001b[1;33m:\u001b[0m\u001b[1;33m68\u001b[0m\u001b[1;33m SAWarning\u001b[0m\u001b[33m: relationship \u001b[0m\u001b[33m'DagRun.serialized_dag'\u001b[0m\u001b[33m will copy column serialized_dag.dag_id to column dag_run.dag_id, which conflicts with \u001b[0m\u001b[1;33mrelationship\u001b[0m\u001b[1;33m(\u001b[0m\u001b[33ms\u001b[0m\u001b[1;33m)\u001b[0m\u001b[33m: \u001b[0m\u001b[33m'DagRun.task_instances'\u001b[0m\u001b[33m \u001b[0m\u001b[1;33m(\u001b[0m\u001b[33mcopies task_instance.dag_id to dag_run.dag_id\u001b[0m\u001b[1;33m)\u001b[0m\u001b[33m, \u001b[0m\u001b[33m'TaskInstance.dag_run'\u001b[0m\u001b[33m \u001b[0m\u001b[1;33m(\u001b[0m\u001b[33mcopies task_instance.dag_id to dag_run.dag_id\u001b[0m\u001b[1;33m)\u001b[0m\u001b[33m. If this is not the intention, consider if these relationships should be linked with back_populates, or if \u001b[0m\u001b[33mviewonly\u001b[0m\u001b[33m=\u001b[0m\u001b[3;33mTrue\u001b[0m\u001b[33m should be applied to one or more if they are read-only. For the less common case that foreign key constraints are partially overlapping, the \u001b[0m\u001b[1;33morm.foreign\u001b[0m\u001b[1;33m(\u001b[0m\u001b[1;33m)\u001b[0m\u001b[33m annotation can be used to isolate the columns that should be written towards.   To silence this warning, add the parameter \u001b[0m\u001b[33m'\u001b[0m\u001b[33moverlaps\u001b[0m\u001b[33m=\u001b[0m\u001b[33m\"dag_run\u001b[0m\u001b[33m,task_instances\"'\u001b[0m\u001b[33m to the \u001b[0m\u001b[33m'DagRun.serialized_dag'\u001b[0m\u001b[33m relationship. \u001b[0m\u001b[1;33m(\u001b[0m\u001b[33mBackground on this error at: \u001b[0m\u001b[4;33mhttps://sqlalche.me/e/14/qzyx\u001b[0m\u001b[4;33m)\u001b[0m\n",
            "\u001b[1;33m/usr/local/lib/python3.9/dist-packages/flask_appbuilder/models/sqla/\u001b[0m\u001b[1;33minterface.py\u001b[0m\u001b[1;33m:\u001b[0m\u001b[1;33m68\u001b[0m\u001b[1;33m SAWarning\u001b[0m\u001b[33m: relationship \u001b[0m\u001b[33m'SerializedDagModel.dag_runs'\u001b[0m\u001b[33m will copy column serialized_dag.dag_id to column dag_run.dag_id, which conflicts with \u001b[0m\u001b[1;33mrelationship\u001b[0m\u001b[1;33m(\u001b[0m\u001b[33ms\u001b[0m\u001b[1;33m)\u001b[0m\u001b[33m: \u001b[0m\u001b[33m'DagRun.task_instances'\u001b[0m\u001b[33m \u001b[0m\u001b[1;33m(\u001b[0m\u001b[33mcopies task_instance.dag_id to dag_run.dag_id\u001b[0m\u001b[1;33m)\u001b[0m\u001b[33m, \u001b[0m\u001b[33m'TaskInstance.dag_run'\u001b[0m\u001b[33m \u001b[0m\u001b[1;33m(\u001b[0m\u001b[33mcopies task_instance.dag_id to dag_run.dag_id\u001b[0m\u001b[1;33m)\u001b[0m\u001b[33m. If this is not the intention, consider if these relationships should be linked with back_populates, or if \u001b[0m\u001b[33mviewonly\u001b[0m\u001b[33m=\u001b[0m\u001b[3;33mTrue\u001b[0m\u001b[33m should be applied to one or more if they are read-only. For the less common case that foreign key constraints are partially overlapping, the \u001b[0m\u001b[1;33morm.foreign\u001b[0m\u001b[1;33m(\u001b[0m\u001b[1;33m)\u001b[0m\u001b[33m annotation can be used to isolate the columns that should be written towards.   To silence this warning, add the parameter \u001b[0m\u001b[33m'\u001b[0m\u001b[33moverlaps\u001b[0m\u001b[33m=\u001b[0m\u001b[33m\"dag_run\u001b[0m\u001b[33m,task_instances\"'\u001b[0m\u001b[33m to the \u001b[0m\u001b[33m'SerializedDagModel.dag_runs'\u001b[0m\u001b[33m relationship. \u001b[0m\u001b[1;33m(\u001b[0m\u001b[33mBackground on this error at: \u001b[0m\u001b[4;33mhttps://sqlalche.me/e/14/qzyx\u001b[0m\u001b[4;33m)\u001b[0m\n",
            "  ____________       _____________\n",
            " ____    |__( )_________  __/__  /________      __\n",
            "____  /| |_  /__  ___/_  /_ __  /_  __ \\_ | /| / /\n",
            "___  ___ |  / _  /   _  __/ _  / / /_/ /_ |/ |/ /\n",
            " _/_/  |_/_/  /_/    /_/    /_/  \\____/____/|__/\n",
            "[\u001b[34m2023-04-05 08:15:35,322\u001b[0m] {\u001b[34mdagbag.py:\u001b[0m496} INFO\u001b[0m - Filling up the DagBag from \u001b[01m/dev/null\u001b[22m\u001b[0m\n",
            "Traceback (most recent call last):\n",
            "  File \"/usr/local/bin/airflow\", line 8, in <module>\n",
            "    sys.exit(main())\n",
            "  File \"/usr/local/lib/python3.9/dist-packages/airflow/__main__.py\", line 40, in main\n",
            "    args.func(args)\n",
            "  File \"/usr/local/lib/python3.9/dist-packages/airflow/cli/cli_parser.py\", line 48, in command\n",
            "    return func(*args, **kwargs)\n",
            "  File \"/usr/local/lib/python3.9/dist-packages/airflow/utils/cli.py\", line 92, in wrapper\n",
            "    return f(*args, **kwargs)\n",
            "  File \"/usr/local/lib/python3.9/dist-packages/airflow/cli/commands/webserver_command.py\", line 368, in webserver\n",
            "    check_if_pidfile_process_is_running(pid_file=pid_file, process_name=\"webserver\")\n",
            "  File \"/usr/local/lib/python3.9/dist-packages/airflow/utils/process_utils.py\", line 267, in check_if_pidfile_process_is_running\n",
            "    raise AirflowException(f\"The {process_name} is already running under PID {pid}.\")\n",
            "airflow.exceptions.AirflowException: The webserver is already running under PID 871.\n"
          ]
        }
      ]
    },
    {
      "cell_type": "code",
      "metadata": {
        "id": "6AicRo890Iyp",
        "colab": {
          "base_uri": "https://localhost:8080/"
        },
        "outputId": "4f265b75-0c36-4beb-88c9-41b4fe06f7ed"
      },
      "source": [
        "# Создадим пользователя Airflow\n",
        "!airflow users create \\\n",
        "          --username admin \\\n",
        "          --firstname admin \\\n",
        "          --lastname admin \\\n",
        "          --role Admin \\\n",
        "          --email admin@example.org \\\n",
        "          -p 12345"
      ],
      "execution_count": 14,
      "outputs": [
        {
          "output_type": "stream",
          "name": "stdout",
          "text": [
            "\u001b[1;33m/usr/local/lib/python3.9/dist-packages/flask_appbuilder/models/sqla/\u001b[0m\u001b[1;33minterface.py\u001b[0m\u001b[1;33m:\u001b[0m\u001b[1;33m68\u001b[0m\u001b[1;33m SAWarning\u001b[0m\u001b[33m: relationship \u001b[0m\u001b[33m'DagRun.serialized_dag'\u001b[0m\u001b[33m will copy column serialized_dag.dag_id to column dag_run.dag_id, which conflicts with \u001b[0m\u001b[1;33mrelationship\u001b[0m\u001b[1;33m(\u001b[0m\u001b[33ms\u001b[0m\u001b[1;33m)\u001b[0m\u001b[33m: \u001b[0m\u001b[33m'DagRun.task_instances'\u001b[0m\u001b[33m \u001b[0m\u001b[1;33m(\u001b[0m\u001b[33mcopies task_instance.dag_id to dag_run.dag_id\u001b[0m\u001b[1;33m)\u001b[0m\u001b[33m, \u001b[0m\u001b[33m'TaskInstance.dag_run'\u001b[0m\u001b[33m \u001b[0m\u001b[1;33m(\u001b[0m\u001b[33mcopies task_instance.dag_id to dag_run.dag_id\u001b[0m\u001b[1;33m)\u001b[0m\u001b[33m. If this is not the intention, consider if these relationships should be linked with back_populates, or if \u001b[0m\u001b[33mviewonly\u001b[0m\u001b[33m=\u001b[0m\u001b[3;33mTrue\u001b[0m\u001b[33m should be applied to one or more if they are read-only. For the less common case that foreign key constraints are partially overlapping, the \u001b[0m\u001b[1;33morm.foreign\u001b[0m\u001b[1;33m(\u001b[0m\u001b[1;33m)\u001b[0m\u001b[33m annotation can be used to isolate the columns that should be written towards.   To silence this warning, add the parameter \u001b[0m\u001b[33m'\u001b[0m\u001b[33moverlaps\u001b[0m\u001b[33m=\u001b[0m\u001b[33m\"dag_run\u001b[0m\u001b[33m,task_instances\"'\u001b[0m\u001b[33m to the \u001b[0m\u001b[33m'DagRun.serialized_dag'\u001b[0m\u001b[33m relationship. \u001b[0m\u001b[1;33m(\u001b[0m\u001b[33mBackground on this error at: \u001b[0m\u001b[4;33mhttps://sqlalche.me/e/14/qzyx\u001b[0m\u001b[4;33m)\u001b[0m\n",
            "\u001b[1;33m/usr/local/lib/python3.9/dist-packages/flask_appbuilder/models/sqla/\u001b[0m\u001b[1;33minterface.py\u001b[0m\u001b[1;33m:\u001b[0m\u001b[1;33m68\u001b[0m\u001b[1;33m SAWarning\u001b[0m\u001b[33m: relationship \u001b[0m\u001b[33m'SerializedDagModel.dag_runs'\u001b[0m\u001b[33m will copy column serialized_dag.dag_id to column dag_run.dag_id, which conflicts with \u001b[0m\u001b[1;33mrelationship\u001b[0m\u001b[1;33m(\u001b[0m\u001b[33ms\u001b[0m\u001b[1;33m)\u001b[0m\u001b[33m: \u001b[0m\u001b[33m'DagRun.task_instances'\u001b[0m\u001b[33m \u001b[0m\u001b[1;33m(\u001b[0m\u001b[33mcopies task_instance.dag_id to dag_run.dag_id\u001b[0m\u001b[1;33m)\u001b[0m\u001b[33m, \u001b[0m\u001b[33m'TaskInstance.dag_run'\u001b[0m\u001b[33m \u001b[0m\u001b[1;33m(\u001b[0m\u001b[33mcopies task_instance.dag_id to dag_run.dag_id\u001b[0m\u001b[1;33m)\u001b[0m\u001b[33m. If this is not the intention, consider if these relationships should be linked with back_populates, or if \u001b[0m\u001b[33mviewonly\u001b[0m\u001b[33m=\u001b[0m\u001b[3;33mTrue\u001b[0m\u001b[33m should be applied to one or more if they are read-only. For the less common case that foreign key constraints are partially overlapping, the \u001b[0m\u001b[1;33morm.foreign\u001b[0m\u001b[1;33m(\u001b[0m\u001b[1;33m)\u001b[0m\u001b[33m annotation can be used to isolate the columns that should be written towards.   To silence this warning, add the parameter \u001b[0m\u001b[33m'\u001b[0m\u001b[33moverlaps\u001b[0m\u001b[33m=\u001b[0m\u001b[33m\"dag_run\u001b[0m\u001b[33m,task_instances\"'\u001b[0m\u001b[33m to the \u001b[0m\u001b[33m'SerializedDagModel.dag_runs'\u001b[0m\u001b[33m relationship. \u001b[0m\u001b[1;33m(\u001b[0m\u001b[33mBackground on this error at: \u001b[0m\u001b[4;33mhttps://sqlalche.me/e/14/qzyx\u001b[0m\u001b[4;33m)\u001b[0m\n",
            "admin already exist in the db\n"
          ]
        }
      ]
    },
    {
      "cell_type": "markdown",
      "metadata": {
        "id": "QZDvtrO63ntq"
      },
      "source": [
        "Поместите в dag.py следующий код.\n",
        "\n",
        "```python\n",
        "from airflow import DAG\n",
        "from datetime import timedelta\n",
        "from airflow.utils.dates import days_ago\n",
        "from airflow.operators.dummy_operator import DummyOperator\n",
        "\n",
        "dag = DAG('dag',schedule_interval=timedelta(days=1), start_date=days_ago(1))\n",
        "t1 = DummyOperator(task_id='task_1', dag=dag)\n",
        "t2 = DummyOperator(task_id='task_2',dag=dag)\n",
        "t3 = DummyOperator(task_id='task_3',dag=dag)\n",
        "t4 = DummyOperator(task_id='task_4',dag=dag)\n",
        "t5 = DummyOperator(task_id='task_5',dag=dag)\n",
        "t6 = DummyOperator(task_id='task_6',dag=dag)\n",
        "t7 = DummyOperator(task_id='task_7',dag=dag)\n",
        "\n",
        "[t1, t2]>>t5\n",
        "t3>>t6\n",
        "[t5,t6] >>  t7\n",
        "t4\n",
        "```"
      ]
    },
    {
      "cell_type": "code",
      "metadata": {
        "id": "kXlUN86A3m1o",
        "colab": {
          "base_uri": "https://localhost:8080/"
        },
        "outputId": "6370c54e-641c-4eee-d4df-1ad518fab533"
      },
      "source": [
        "# Запуск шедулера\n",
        "!airflow scheduler -D"
      ],
      "execution_count": 15,
      "outputs": [
        {
          "output_type": "stream",
          "name": "stdout",
          "text": [
            "\u001b[1;33m/usr/local/lib/python3.9/dist-packages/airflow/utils/\u001b[0m\u001b[1;33mcli.py\u001b[0m\u001b[1;33m:\u001b[0m\u001b[1;33m149\u001b[0m\u001b[1;33m SAWarning\u001b[0m\u001b[33m: relationship \u001b[0m\u001b[33m'DagRun.serialized_dag'\u001b[0m\u001b[33m will copy column serialized_dag.dag_id to column dag_run.dag_id, which conflicts with \u001b[0m\u001b[1;33mrelationship\u001b[0m\u001b[1;33m(\u001b[0m\u001b[33ms\u001b[0m\u001b[1;33m)\u001b[0m\u001b[33m: \u001b[0m\u001b[33m'DagRun.task_instances'\u001b[0m\u001b[33m \u001b[0m\u001b[1;33m(\u001b[0m\u001b[33mcopies task_instance.dag_id to dag_run.dag_id\u001b[0m\u001b[1;33m)\u001b[0m\u001b[33m, \u001b[0m\u001b[33m'TaskInstance.dag_run'\u001b[0m\u001b[33m \u001b[0m\u001b[1;33m(\u001b[0m\u001b[33mcopies task_instance.dag_id to dag_run.dag_id\u001b[0m\u001b[1;33m)\u001b[0m\u001b[33m. If this is not the intention, consider if these relationships should be linked with back_populates, or if \u001b[0m\u001b[33mviewonly\u001b[0m\u001b[33m=\u001b[0m\u001b[3;33mTrue\u001b[0m\u001b[33m should be applied to one or more if they are read-only. For the less common case that foreign key constraints are partially overlapping, the \u001b[0m\u001b[1;33morm.foreign\u001b[0m\u001b[1;33m(\u001b[0m\u001b[1;33m)\u001b[0m\u001b[33m annotation can be used to isolate the columns that should be written towards.   To silence this warning, add the parameter \u001b[0m\u001b[33m'\u001b[0m\u001b[33moverlaps\u001b[0m\u001b[33m=\u001b[0m\u001b[33m\"dag_run\u001b[0m\u001b[33m,task_instances\"'\u001b[0m\u001b[33m to the \u001b[0m\u001b[33m'DagRun.serialized_dag'\u001b[0m\u001b[33m relationship. \u001b[0m\u001b[1;33m(\u001b[0m\u001b[33mBackground on this error at: \u001b[0m\u001b[4;33mhttps://sqlalche.me/e/14/qzyx\u001b[0m\u001b[4;33m)\u001b[0m\n",
            "\u001b[1;33m/usr/local/lib/python3.9/dist-packages/airflow/utils/\u001b[0m\u001b[1;33mcli.py\u001b[0m\u001b[1;33m:\u001b[0m\u001b[1;33m149\u001b[0m\u001b[1;33m SAWarning\u001b[0m\u001b[33m: relationship \u001b[0m\u001b[33m'SerializedDagModel.dag_runs'\u001b[0m\u001b[33m will copy column serialized_dag.dag_id to column dag_run.dag_id, which conflicts with \u001b[0m\u001b[1;33mrelationship\u001b[0m\u001b[1;33m(\u001b[0m\u001b[33ms\u001b[0m\u001b[1;33m)\u001b[0m\u001b[33m: \u001b[0m\u001b[33m'DagRun.task_instances'\u001b[0m\u001b[33m \u001b[0m\u001b[1;33m(\u001b[0m\u001b[33mcopies task_instance.dag_id to dag_run.dag_id\u001b[0m\u001b[1;33m)\u001b[0m\u001b[33m, \u001b[0m\u001b[33m'TaskInstance.dag_run'\u001b[0m\u001b[33m \u001b[0m\u001b[1;33m(\u001b[0m\u001b[33mcopies task_instance.dag_id to dag_run.dag_id\u001b[0m\u001b[1;33m)\u001b[0m\u001b[33m. If this is not the intention, consider if these relationships should be linked with back_populates, or if \u001b[0m\u001b[33mviewonly\u001b[0m\u001b[33m=\u001b[0m\u001b[3;33mTrue\u001b[0m\u001b[33m should be applied to one or more if they are read-only. For the less common case that foreign key constraints are partially overlapping, the \u001b[0m\u001b[1;33morm.foreign\u001b[0m\u001b[1;33m(\u001b[0m\u001b[1;33m)\u001b[0m\u001b[33m annotation can be used to isolate the columns that should be written towards.   To silence this warning, add the parameter \u001b[0m\u001b[33m'\u001b[0m\u001b[33moverlaps\u001b[0m\u001b[33m=\u001b[0m\u001b[33m\"dag_run\u001b[0m\u001b[33m,task_instances\"'\u001b[0m\u001b[33m to the \u001b[0m\u001b[33m'SerializedDagModel.dag_runs'\u001b[0m\u001b[33m relationship. \u001b[0m\u001b[1;33m(\u001b[0m\u001b[33mBackground on this error at: \u001b[0m\u001b[4;33mhttps://sqlalche.me/e/14/qzyx\u001b[0m\u001b[4;33m)\u001b[0m\n",
            "  ____________       _____________\n",
            " ____    |__( )_________  __/__  /________      __\n",
            "____  /| |_  /__  ___/_  /_ __  /_  __ \\_ | /| / /\n",
            "___  ___ |  / _  /   _  __/ _  / / /_/ /_ |/ |/ /\n",
            " _/_/  |_/_/  /_/    /_/    /_/  \\____/____/|__/\n"
          ]
        }
      ]
    },
    {
      "cell_type": "code",
      "metadata": {
        "id": "A7jJGmYR3nGP",
        "colab": {
          "base_uri": "https://localhost:8080/"
        },
        "outputId": "d02d5bc8-e866-4ae1-a866-c290b485db3a"
      },
      "source": [
        "# Последующие команды не имеют отношения к Airflow\n",
        "# Они нужни только для корректной работы веб морды\n",
        "# в среде Google Colab\n",
        "\n",
        "!pip install pyngrok\n",
        "!ngrok authtoken '2NssWBxpPPT0Yj7i2gGK09ZslOI_7FfHuY7vh9tfyDWaDNT2z' # найти его можно https://dashboard.ngrok.com/get-started/setup \n",
        "\n",
        "# Эта команда просто отображет веб морду на другой адрес\n",
        "# Его вы можете найти https://dashboard.ngrok.com/cloud-edge/status\n",
        "# При каждом отключении ссылка будет меняться\n",
        "!nohup ngrok http -log=stdout 18273 > /dev/null &"
      ],
      "execution_count": 16,
      "outputs": [
        {
          "output_type": "stream",
          "name": "stdout",
          "text": [
            "Looking in indexes: https://pypi.org/simple, https://us-python.pkg.dev/colab-wheels/public/simple/\n",
            "Requirement already satisfied: pyngrok in /usr/local/lib/python3.9/dist-packages (5.2.1)\n",
            "Requirement already satisfied: PyYAML in /usr/local/lib/python3.9/dist-packages (from pyngrok) (6.0)\n",
            "Authtoken saved to configuration file: /root/.ngrok2/ngrok.yml\n",
            "nohup: redirecting stderr to stdout\n"
          ]
        }
      ]
    },
    {
      "cell_type": "markdown",
      "metadata": {
        "id": "6sbOlBAm4fUp"
      },
      "source": [
        "После запуска команды выше, перейдите по адресу в ngrok и подождите  пока появится DAG с именем dag"
      ]
    },
    {
      "cell_type": "markdown",
      "metadata": {
        "id": "cT_WObnV6apR"
      },
      "source": [
        "### Практика\n",
        "\n",
        "**Весь код необходимо вставлять в dag.py**"
      ]
    },
    {
      "cell_type": "markdown",
      "metadata": {
        "id": "0tX-TY999iXt"
      },
      "source": [
        "#### Аргументы DAG"
      ]
    },
    {
      "cell_type": "markdown",
      "metadata": {
        "id": "pVzn63zW76Mc"
      },
      "source": [
        "Вставьте данный код в dag.py и посмотите на главную страницу Airflow.\n",
        "\n",
        "```python\n",
        "from airflow import DAG\n",
        "from datetime import timedelta\n",
        "from airflow.utils.dates import days_ago\n",
        "from airflow.operators.dummy_operator import DummyOperator\n",
        " \n",
        "# Создадим объект класса DAG\n",
        "dag = DAG('dag', schedule_interval=timedelta(days=1))\n",
        "\n",
        "# Создадим несколько шагов\n",
        "t1 = DummyOperator(task_id='echo_1', dag=dag)\n",
        "t2 = DummyOperator(task_id='echo_2', dag=dag)\n",
        "```"
      ]
    },
    {
      "cell_type": "markdown",
      "metadata": {
        "id": "Vy9lfcsr8yqD"
      },
      "source": [
        "**Задание #1**\n",
        "\n",
        "Впишите текст полученной ошибки после airflow.exceptions.AirflowException:, без пробелов только текст\n",
        "\n",
        "\n",
        "Данная ошибка указывает на то что мы не задали стартовую дату, давайте это поправим.\n",
        "\n",
        "```python\n",
        "from airflow import DAG\n",
        "from datetime import timedelta\n",
        "from airflow.utils.dates import days_ago\n",
        "from airflow.operators.dummy_operator import DummyOperator\n",
        " \n",
        "# Создадим объект класса DAG\n",
        "dag = DAG('dag',\n",
        "          schedule_interval='@daily',\n",
        "          start_date=days_ago(1))\n",
        "\n",
        "# Создадим несколько шагов\n",
        "t1 = DummyOperator(task_id='echo_1', dag=dag)\n",
        "t2 = DummyOperator(task_id='echo_2', dag=dag)\n",
        "```\n",
        "\n",
        "После перехода на главную страницу вы увидите что ошибка исчезла.\n",
        "\n"
      ]
    },
    {
      "cell_type": "markdown",
      "metadata": {
        "id": "69ciAX23ACew"
      },
      "source": [
        "#### PythonOperator"
      ]
    },
    {
      "cell_type": "markdown",
      "metadata": {
        "id": "UaI1tlEbAF39"
      },
      "source": [
        "Пример использования оператора для запуска кода. Попробуем скачать файл из интернета.\n",
        "\n",
        "**Задание #2**\n",
        "\n",
        "Впишите полный путь до файла куда мы запишем данные"
      ]
    },
    {
      "cell_type": "markdown",
      "metadata": {
        "id": "p_WMiyZlAato"
      },
      "source": [
        "\n",
        "\n",
        "```python\n",
        "from airflow import DAG\n",
        "from datetime import timedelta\n",
        "from airflow.utils.dates import days_ago\n",
        "from airflow.operators.python import PythonOperator\n",
        "\n",
        "import pandas as pd\n",
        " \n",
        "def f_callable(url, f_name):\n",
        "  data = pd.read_csv(url)\n",
        "  data.to_csv(f_name)\n",
        "\n",
        "with DAG('dag', schedule_interval=timedelta(days=1), start_date=days_ago(1)) as dag:\n",
        "  # Создадим оператор для исполнения python функции\n",
        "  t1 = PythonOperator(task_id='download_file', \n",
        "                      python_callable=f_callable,\n",
        "                      op_kwargs={'url': 'https://raw.githubusercontent.com/dm-novikov/stepik_airflow_course/main/data/data.csv', \n",
        "                                 'f_name': '/root/airflow/data.csv'})\n",
        "```\n",
        "\n"
      ]
    }
  ]
}