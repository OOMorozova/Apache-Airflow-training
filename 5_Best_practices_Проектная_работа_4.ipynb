{
  "cells": [
    {
      "cell_type": "markdown",
      "metadata": {
        "id": "dKVsSmoLVx81"
      },
      "source": [
        "### Настройка окружения\n",
        "\n",
        "Для начала вам необходимо выполнить ряд команд чтобы настроить окружение для дальнейшей работы, это позволит первое время не заниматься долгим деплоем, а сразу начать писать код и работать с airflow."
      ]
    },
    {
      "cell_type": "code",
      "execution_count": null,
      "metadata": {
        "colab": {
          "base_uri": "https://localhost:8080/"
        },
        "id": "VHHKEJQSVn9G",
        "outputId": "ea1f88ca-ad34-4e88-9773-7c751d3dc032"
      },
      "outputs": [],
      "source": [
        "# Установка Airflow\n",
        "!pip install apache-airflow==2.4.2\n",
        "!pip install apache-airflow-providers-http\n",
        "!pip install apache-airflow-providers-telegram\n",
        "\n",
        "!airflow db init"
      ]
    },
    {
      "cell_type": "code",
      "execution_count": null,
      "metadata": {
        "id": "3D_wVrfCzkIG"
      },
      "outputs": [],
      "source": [
        "# Создадим папку dags\n",
        "# В этой папке лежат скрипты для создания дагов\n",
        "# Это стандартное имя для  данной папки\n",
        "!mkdir /root/airflow/dags\n",
        "!touch /root/airflow/dags/dag.py"
      ]
    },
    {
      "cell_type": "code",
      "execution_count": null,
      "metadata": {
        "colab": {
          "base_uri": "https://localhost:8080/"
        },
        "id": "YS5E4byhXGDu",
        "outputId": "8b0db68b-7789-4a5b-aa15-6e2605ec22af"
      },
      "outputs": [],
      "source": [
        "!airflow users create \\\n",
        "          --username admin \\\n",
        "          --firstname admin \\\n",
        "          --lastname admin \\\n",
        "          --role Admin \\\n",
        "          --email admin@example.org \\\n",
        "          -p 12345"
      ]
    },
    {
      "cell_type": "code",
      "execution_count": null,
      "metadata": {
        "colab": {
          "base_uri": "https://localhost:8080/"
        },
        "id": "iRbvIuUKEc4b",
        "outputId": "8b81751b-bee4-4ed9-c76e-c0ddd84fd930"
      },
      "outputs": [
        {
          "name": "stdout",
          "output_type": "stream",
          "text": [
            "  ____________       _____________\n",
            " ____    |__( )_________  __/__  /________      __\n",
            "____  /| |_  /__  ___/_  /_ __  /_  __ \\_ | /| / /\n",
            "___  ___ |  / _  /   _  __/ _  / / /_/ /_ |/ |/ /\n",
            " _/_/  |_/_/  /_/    /_/    /_/  \\____/____/|__/\n",
            "Running the Gunicorn Server with:\n",
            "Workers: 4 sync\n",
            "Host: 0.0.0.0:18273\n",
            "Timeout: 120\n",
            "Logfiles: - -\n",
            "Access Logformat: \n",
            "=================================================================\n",
            "[\u001b[34m2023-05-07 11:10:20,004\u001b[0m] {\u001b[34mdagbag.py:\u001b[0m537} INFO\u001b[0m - Filling up the DagBag from \u001b[01m/dev/null\u001b[22m\u001b[0m\n"
          ]
        }
      ],
      "source": [
        "# Включим веб-сервер\n",
        "!airflow webserver -p 18273 -D"
      ]
    },
    {
      "cell_type": "code",
      "execution_count": null,
      "metadata": {
        "colab": {
          "base_uri": "https://localhost:8080/"
        },
        "id": "EE6WIjd2Ect1",
        "outputId": "51d01898-1b5a-4453-a9a0-b64b1f9cc1ad"
      },
      "outputs": [
        {
          "name": "stdout",
          "output_type": "stream",
          "text": [
            "  ____________       _____________\n",
            " ____    |__( )_________  __/__  /________      __\n",
            "____  /| |_  /__  ___/_  /_ __  /_  __ \\_ | /| / /\n",
            "___  ___ |  / _  /   _  __/ _  / / /_/ /_ |/ |/ /\n",
            " _/_/  |_/_/  /_/    /_/    /_/  \\____/____/|__/\n"
          ]
        }
      ],
      "source": [
        "# Запуск шедулера\n",
        "!airflow scheduler -D"
      ]
    },
    {
      "cell_type": "code",
      "execution_count": null,
      "metadata": {
        "colab": {
          "base_uri": "https://localhost:8080/"
        },
        "id": "UeQ0mgW7Eh4c",
        "outputId": "22690063-e58e-4ea8-97af-e91bb83dfb1c"
      },
      "outputs": [
        {
          "name": "stdout",
          "output_type": "stream",
          "text": [
            "Looking in indexes: https://pypi.org/simple, https://us-python.pkg.dev/colab-wheels/public/simple/\n",
            "Requirement already satisfied: pyngrok in /usr/local/lib/python3.10/dist-packages (6.0.0)\n",
            "Requirement already satisfied: PyYAML in /usr/local/lib/python3.10/dist-packages (from pyngrok) (6.0)\n",
            "Authtoken saved to configuration file: /root/.ngrok2/ngrok.yml\n",
            "nohup: redirecting stderr to stdout\n"
          ]
        }
      ],
      "source": [
        "# Последующие команды не имеют отношения к Airflow\n",
        "# Они нужни только для корректной работы веб морды\n",
        "# в среде Google Colab\n",
        "\n",
        "!pip install pyngrok\n",
        "!ngrok authtoken  # найти его можно https://dashboard.ngrok.com/get-started/setup \n",
        "\n",
        "# Эта команда просто отображет веб морду на другой адрес\n",
        "# Его вы можете найти https://dashboard.ngrok.com/cloud-edge/status\n",
        "# При каждом отключении ссылка будет меняться\n",
        "!nohup ngrok http 18273 > /dev/null &"
      ]
    },
    {
      "cell_type": "markdown",
      "metadata": {
        "id": "NYtYIZutPFOv"
      },
      "source": [
        "### Задача на разработку\n",
        "\n",
        "Необходимо реализовать PythonOperator который будет бросать исключение raise AirflowException . После этого реализуйте функцию которая будет отправлять сообщение в Telegram при статусе задачи failed, вам нужно создать свой канал и бота которые будет отсылать сообщение, в канал добавьте данный аккаунт https://t.me/dsfasdfaaf"
      ]
    },
    {
      "cell_type": "code",
      "execution_count": null,
      "metadata": {
        "colab": {
          "base_uri": "https://localhost:8080/",
          "height": 33
        },
        "id": "5RZSvfnAPHHk",
        "outputId": "c0768ae2-0512-4e08-cde6-0355745c7b44"
      },
      "outputs": [
        {
          "data": {
            "text/html": [
              "<pre style=\"white-space:pre;overflow-x:auto;line-height:normal;font-family:Menlo,'DejaVu Sans Mono',consolas,'Courier New',monospace\"><span style=\"color: #808000; text-decoration-color: #808000; font-weight: bold\">&lt;ipython-input-</span><span style=\"color: #808000; text-decoration-color: #808000; font-weight: bold\">7</span><span style=\"color: #808000; text-decoration-color: #808000; font-weight: bold\">-34ca26cc0e2a&gt;:</span><span style=\"color: #808000; text-decoration-color: #808000; font-weight: bold\">22</span><span style=\"color: #808000; text-decoration-color: #808000; font-weight: bold\"> RemovedInAirflow3Warning</span><span style=\"color: #808000; text-decoration-color: #808000\">: Param `schedule_interval` is deprecated and will be removed in a future release. Please use `schedule` instead.</span>\n",
              "</pre>\n"
            ],
            "text/plain": [
              "\u001b[1;33m<\u001b[0m\u001b[1;33mipython-input-\u001b[0m\u001b[1;33m7\u001b[0m\u001b[1;33m-34ca26cc0e2a\u001b[0m\u001b[1;33m>\u001b[0m\u001b[1;33m:\u001b[0m\u001b[1;33m22\u001b[0m\u001b[1;33m RemovedInAirflow3Warning\u001b[0m\u001b[33m: Param `schedule_interval` is deprecated and will be removed in a future release. Please use `schedule` instead.\u001b[0m\n"
            ]
          },
          "metadata": {},
          "output_type": "display_data"
        }
      ],
      "source": [
        "## ВАШЕ РЕШЕНИЕ\n",
        "from airflow import DAG\n",
        "from datetime import timedelta, datetime\n",
        "from airflow.utils.dates import days_ago\n",
        "from airflow.providers.telegram.operators.telegram import TelegramOperator\n",
        "from airflow.operators.python import PythonOperator\n",
        "from airflow.exceptions import AirflowException\n",
        "\n",
        "def on_failure_callback(context):\n",
        "    send_message = TelegramOperator(\n",
        "        task_id='send_message_telegram',\n",
        "        telegram_conn_id='telegram_id',\n",
        "        chat_id='-1001801913749',\n",
        "        text='oh no!',\n",
        "        dag=dag)\n",
        "    return send_message.execute(context=context)\n",
        "\n",
        "def exception():\n",
        "  raise AirflowException('send error to telegram')\n",
        "\n",
        "# Создадим объект класса DAG\n",
        "dag = DAG(\n",
        "    'dag',\n",
        "    start_date=datetime(2015, 12, 1),\n",
        "    on_failure_callback=on_failure_callback,\n",
        "    schedule_interval='@daily')\n",
        "\n",
        "wrong_task = PythonOperator(task_id='error', python_callable=exception, dag=dag)\n",
        "\n",
        "wrong_task"
      ]
    }
  ],
  "metadata": {
    "colab": {
      "provenance": []
    },
    "kernelspec": {
      "display_name": "Python 3",
      "name": "python3"
    },
    "language_info": {
      "name": "python"
    }
  },
  "nbformat": 4,
  "nbformat_minor": 0
}
