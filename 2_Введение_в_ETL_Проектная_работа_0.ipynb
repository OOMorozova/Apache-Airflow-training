{
  "cells": [
    {
      "cell_type": "code",
      "execution_count": null,
      "metadata": {
        "id": "hAoSxEtn0QIo"
      },
      "outputs": [],
      "source": [
        "# Импорт необходимых библиотек\n",
        "import pandas as pd\n",
        "import sqlite3\n",
        "import sqlalchemy"
      ]
    },
    {
      "cell_type": "code",
      "execution_count": null,
      "metadata": {
        "id": "g8AqrUWDa25D"
      },
      "outputs": [],
      "source": [
        "# Создайте базу данных sqlite, можно использовать sqlalchemy или pandas, или любой другой инструмент\n",
        "\n",
        "CON = sqlite3.connect('currency.db', isolation_level=None)"
      ]
    },
    {
      "cell_type": "code",
      "execution_count": null,
      "metadata": {
        "id": "WN5AxNjudXrP"
      },
      "outputs": [],
      "source": [
        "# Напишите функцию которая принимает на вход дату\n",
        "# и выгружает курс валюты EUR к USD за этот день\n",
        "# Функция должна вернуть список словарей или можно использовать можно использоват pandas.read_csv()\n",
        "\n",
        "# Для этого воспользуйтесь https://exchangerate.host/#/\n",
        "# и методом Timeseries Endpoint! Строго им. Где start_date = end_date = date\n",
        "# Используйте параметры start_date, end_date, base=EUR, symbols=USD, format=csv\n",
        "\n",
        "def extract_currency(date):\n",
        "  url = 'https://api.exchangerate.host/timeseries?start_date=' + str(date) + '&end_date=' + str(date) + \"&base='EUR'\" + \"&symbols=USD\" + '&format=csv'\n",
        "\n",
        "  return pd.read_csv(url)\n",
        "# extract_currency('2021-01-01')"
      ]
    },
    {
      "cell_type": "code",
      "execution_count": null,
      "metadata": {
        "id": "ClRqffvefPA7"
      },
      "outputs": [],
      "source": [
        "# Напишите функцию которая скачивает данные с гитхаба\n",
        "# Функция принимает на вход дату\n",
        "# Функция должна вернуть список словарей или можно использовать можно использоват pandas.read_csv()\n",
        "\n",
        "# ссылка на гитхаб с файлами - https://github.com/dm-novikov/stepik_airflow_course/tree/main/data_new\n",
        "\n",
        "def extract_data(date):\n",
        "  url = 'https://raw.githubusercontent.com/dm-novikov/stepik_airflow_course/main/data_new/' + str(date) + '.csv'\n",
        "  return pd.read_csv(url)\n",
        "\n",
        "# extract_data('2021-01-01')"
      ]
    },
    {
      "cell_type": "code",
      "execution_count": null,
      "metadata": {
        "id": "3Nr4KoeUdcKb"
      },
      "outputs": [],
      "source": [
        "# Напишите функцию которая принимает на вход список словарей\n",
        "# и загружает в табличку в sqlite, можно использоват pandas.to_sql()\n",
        "\n",
        "def insert_to_db(data, table_name, conn):\n",
        "  data.to_sql(table_name, con=conn, if_exists='replace', index=False)\n",
        "\n"
      ]
    },
    {
      "cell_type": "code",
      "execution_count": null,
      "metadata": {
        "id": "bQwysQOTfL6x"
      },
      "outputs": [],
      "source": [
        "# Напишите функцию которая выполнит SQL запрос к базу данных\n",
        "# Здесь удобно использовать sqlalchemy или https://pythonru.com/biblioteki/vvedenie-v-sqlite-python\n",
        "# Если выполняется select ... то функция должна возвращать результат (не None)\n",
        "# Если используется внутренняя операция например truncate table, insert into select ... то возвращает None\n",
        "# data = sql_query(sql=\"select * from table\") -> [(1, 2, 3), (4, 5, 6) ...]\n",
        "# sql_query(\"truncate table\") -> None\n",
        "\n",
        "def sql_query(sql, conn):\n",
        "  df = None\n",
        "  cursor = conn.cursor()\n",
        "  query = cursor.execute(sql)\n",
        "  if query.description:\n",
        "    df = pd.DataFrame.from_records(data = query.fetchall(), columns = [column[0] for column in query.description])\n",
        "  cursor.close()\n",
        "  return df"
      ]
    },
    {
      "cell_type": "code",
      "execution_count": null,
      "metadata": {
        "id": "7kAwWVq3gQpn"
      },
      "outputs": [],
      "source": [
        "# Напишите функцию которая отправит полученный отчет на почту\n",
        "# Для этого можете воспользоваться кодом который был написан ранее (на уроке)\n",
        "# обернув его в вашу функцию\n",
        "\n",
        "def send_report(data, email):\n",
        "  pass"
      ]
    },
    {
      "cell_type": "code",
      "execution_count": null,
      "metadata": {
        "colab": {
          "base_uri": "https://localhost:8080/"
        },
        "id": "EQxB_D47gl7e",
        "outputId": "3c3a6486-e068-4d8c-f7d2-e708526321aa"
      },
      "outputs": [
        {
          "name": "stdout",
          "output_type": "stream",
          "text": [
            "         date currency code      rate  start_date    end_date  value\n",
            "0  2021-01-01      EUR  USD  1,217582  2021-01-01  2021-01-01     23\n",
            "1  2021-01-01      EUR  USD  1,217582  2021-01-01  2021-01-01     24\n",
            "2  2021-01-01      EUR  USD  1,217582  2021-01-01  2021-01-01     38\n",
            "3  2021-01-01      EUR  USD  1,217582  2021-01-01  2021-01-01     42\n",
            "4  2021-01-01      EUR  USD  1,217582  2021-01-01  2021-01-01     48\n",
            "5  2021-01-01      EUR  USD  1,217582  2021-01-01  2021-01-01     65\n",
            "6  2021-01-01      EUR  USD  1,217582  2021-01-01  2021-01-01     74\n",
            "7  2021-01-01      EUR  USD  1,217582  2021-01-01  2021-01-01     74\n",
            "8  2021-01-01      EUR  USD  1,217582  2021-01-01  2021-01-01     86\n",
            "         date currency code    rate  start_date    end_date  value\n",
            "0  2021-01-02      EUR  USD  1,2135  2021-01-02  2021-01-02      3\n",
            "1  2021-01-02      EUR  USD  1,2135  2021-01-02  2021-01-02     27\n",
            "2  2021-01-02      EUR  USD  1,2135  2021-01-02  2021-01-02     36\n",
            "3  2021-01-02      EUR  USD  1,2135  2021-01-02  2021-01-02     39\n",
            "4  2021-01-02      EUR  USD  1,2135  2021-01-02  2021-01-02     45\n",
            "5  2021-01-02      EUR  USD  1,2135  2021-01-02  2021-01-02     49\n",
            "6  2021-01-02      EUR  USD  1,2135  2021-01-02  2021-01-02     71\n",
            "7  2021-01-02      EUR  USD  1,2135  2021-01-02  2021-01-02     94\n",
            "8  2021-01-02      EUR  USD  1,2135  2021-01-02  2021-01-02     96\n",
            "         date currency code      rate  start_date    end_date  value\n",
            "0  2021-01-03      EUR  USD  1,223409  2021-01-03  2021-01-03      2\n",
            "1  2021-01-03      EUR  USD  1,223409  2021-01-03  2021-01-03     23\n",
            "2  2021-01-03      EUR  USD  1,223409  2021-01-03  2021-01-03     23\n",
            "3  2021-01-03      EUR  USD  1,223409  2021-01-03  2021-01-03     35\n",
            "4  2021-01-03      EUR  USD  1,223409  2021-01-03  2021-01-03     40\n",
            "5  2021-01-03      EUR  USD  1,223409  2021-01-03  2021-01-03     41\n",
            "6  2021-01-03      EUR  USD  1,223409  2021-01-03  2021-01-03     56\n",
            "7  2021-01-03      EUR  USD  1,223409  2021-01-03  2021-01-03     93\n",
            "8  2021-01-03      EUR  USD  1,223409  2021-01-03  2021-01-03    100\n",
            "         date currency code      rate  start_date    end_date  value\n",
            "0  2021-01-04      EUR  USD  1,225061  2021-01-04  2021-01-04     20\n",
            "1  2021-01-04      EUR  USD  1,225061  2021-01-04  2021-01-04     33\n",
            "2  2021-01-04      EUR  USD  1,225061  2021-01-04  2021-01-04     38\n",
            "3  2021-01-04      EUR  USD  1,225061  2021-01-04  2021-01-04     39\n",
            "4  2021-01-04      EUR  USD  1,225061  2021-01-04  2021-01-04     51\n",
            "5  2021-01-04      EUR  USD  1,225061  2021-01-04  2021-01-04     57\n",
            "6  2021-01-04      EUR  USD  1,225061  2021-01-04  2021-01-04     68\n",
            "7  2021-01-04      EUR  USD  1,225061  2021-01-04  2021-01-04     88\n",
            "8  2021-01-04      EUR  USD  1,225061  2021-01-04  2021-01-04     90\n"
          ]
        }
      ],
      "source": [
        "# Запустите ваш код в функции main\n",
        "\n",
        "# Напишите генерацию дат, так чтобы у вас получился список\n",
        "# 2021-01-02, 2021-01-03 ... etc\n",
        "# Нужны даты с 2021-01-01 по 2021-01-04\n",
        "from datetime import datetime\n",
        "\n",
        "dates_list = [d.strftime('%Y-%m-%d') for d in pd.date_range('2021-01-01', '2021-01-04')]\n",
        "def main(date, email, conn):\n",
        "  \n",
        "  # Выгружаем данные по валютам и из источника\n",
        "  currency = extract_currency(date)\n",
        "  data = extract_data(date)\n",
        "\n",
        "  # Создайте необходимые таблицы если это нужно\n",
        "  # Вставляем данные в БД\n",
        "  # У вас долнжо получиться 2 таблицы CURRENCY, DATA\n",
        "  insert_to_db(currency, 'currency', conn)\n",
        "  insert_to_db(data, 'data', conn)\n",
        "\n",
        "  # Объединение данных в отдельную таблицу JOIN_DATA\n",
        "  # CURRENCY, DATA объединить через JOIN по дате и валюте\n",
        "  # Используйте insert into select ... inner join ...\n",
        "  # И соответственно создать таблицу для этого\n",
        "  join = sql_query(\"\"\"select c.date\n",
        "                                  ,d.currency\t\n",
        "                                  ,c.code\n",
        "                                  ,c.rate\t\n",
        "                                  ,c.start_date\t\n",
        "                                  ,c.end_date \n",
        "                                  ,d.value\t\n",
        "                             from currency c\n",
        "                            inner join data d\n",
        "                                    on d.currency = replace(c.base,'''', '')\n",
        "                                   and d.date = c.date\n",
        "            \"\"\", conn)\n",
        "  insert_to_db(join, 'join_data', conn)\n",
        "\n",
        "  # Очистка временных таблиц CURRENCY, DATA\n",
        "  # Это те таблицы куда произошла вставка данных\n",
        "  # Используйте truncate\n",
        "  sql_query(\"\"\"DELETE FROM currency\n",
        "            \"\"\", conn)\n",
        "  sql_query(\"\"\"DELETE FROM data\n",
        "            \"\"\", conn)\n",
        "  # Получение данных из таблицы JOIN_DATA за конкретный день\n",
        "  # Используйте date при формировании запроса select * from ... where date ='...'\n",
        "  report = sql_query(f\"select * from join_data where date='{date}' and code='USD'\", conn) \n",
        "  print(report)\n",
        "\n",
        "# Пройдемся по списку дат и выполним скрипт\n",
        "for date in dates_list:\n",
        "  main(date, 'email', CON)"
      ]
    },
    {
      "cell_type": "code",
      "execution_count": null,
      "metadata": {
        "id": "oKOYD6FjsRGt"
      },
      "outputs": [],
      "source": [
        "# # чтобы првоерить решение можете обратиться к вашей базе данных таким образом\n",
        "# %load_ext sql\n",
        "# %config SqlMagic.feedback=False \n",
        "# %config SqlMagic.autopandas=True\n",
        "# %sql sqlite:////currency.db\n",
        "# %sql select * from join_data"
      ]
    }
  ],
  "metadata": {
    "colab": {
      "provenance": []
    },
    "kernelspec": {
      "display_name": "Python 3",
      "name": "python3"
    },
    "language_info": {
      "name": "python"
    }
  },
  "nbformat": 4,
  "nbformat_minor": 0
}
