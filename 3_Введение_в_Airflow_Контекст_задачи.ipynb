{
  "cells": [
    {
      "cell_type": "markdown",
      "metadata": {
        "id": "dKVsSmoLVx81"
      },
      "source": [
        "### Настройка окружения\n",
        "\n",
        "Для начала вам необходимо выполнить ряд команд чтобы настроить окружение для дальнейшей работы, это позволит первое время не заниматься долгим деплоем, а сразу начать писать код и работать с airflow."
      ]
    },
    {
      "cell_type": "code",
      "execution_count": null,
      "metadata": {
        "id": "VHHKEJQSVn9G"
      },
      "outputs": [],
      "source": [
        "# Установка Airflow\n",
        "!pip install apache-airflow==2.1.4\n",
        "\n",
        "!airflow db init"
      ]
    },
    {
      "cell_type": "code",
      "execution_count": null,
      "metadata": {
        "colab": {
          "base_uri": "https://localhost:8080/"
        },
        "id": "3D_wVrfCzkIG",
        "outputId": "4b94990b-547c-4885-e5b4-52115a24a680"
      },
      "outputs": [
        {
          "name": "stdout",
          "output_type": "stream",
          "text": [
            "mkdir: cannot create directory ‘/root/airflow/dags’: File exists\n"
          ]
        }
      ],
      "source": [
        "# Создадим папку dags\n",
        "# В этой папке лежат скрипты для создания дагов\n",
        "# Это стандартное имя для  данной папки\n",
        "!mkdir /root/airflow/dags\n",
        "!touch /root/airflow/dags/dag.py"
      ]
    },
    {
      "cell_type": "code",
      "execution_count": null,
      "metadata": {
        "colab": {
          "base_uri": "https://localhost:8080/"
        },
        "id": "EDfieFGwWtLO",
        "outputId": "3ab5841a-b1ed-474a-fd82-5287c43af156"
      },
      "outputs": [],
      "source": [
        "# Последующие команды не имеют отношения к Airflow\n",
        "# Они нужни только для корректоной работы веб приложения\n",
        "# в среде Google Colab\n",
        "\n",
        "!pip install pyngrok\n",
        "\n",
        "!ngrok authtoken '' # найти его можно https://dashboard.ngrok.com/get-started/setup "
      ]
    },
    {
      "cell_type": "code",
      "execution_count": null,
      "metadata": {
        "colab": {
          "base_uri": "https://localhost:8080/"
        },
        "id": "YS5E4byhXGDu",
        "outputId": "328a371a-7f16-4359-d103-412251a98e8f"
      },
      "outputs": [],
      "source": [
        "!airflow users create \\\n",
        "          --username admin \\\n",
        "          --firstname admin \\\n",
        "          --lastname admin \\\n",
        "          --role Admin \\\n",
        "          --email admin@example.org \\\n",
        "          -p 12345"
      ]
    },
    {
      "cell_type": "code",
      "execution_count": null,
      "metadata": {
        "colab": {
          "base_uri": "https://localhost:8080/"
        },
        "id": "zEvGbLGh5xum",
        "outputId": "ded2d148-f252-462a-cbf9-4aab2960916e"
      },
      "outputs": [],
      "source": [
        "# Включим веб-сервер\n",
        "!airflow webserver -p 18273 -D"
      ]
    },
    {
      "cell_type": "code",
      "execution_count": null,
      "metadata": {
        "colab": {
          "base_uri": "https://localhost:8080/"
        },
        "id": "UMdriHrY5yJD",
        "outputId": "968abde4-ae8c-487e-970c-ca0ea659fddc"
      },
      "outputs": [],
      "source": [
        "# Запуск шедулера\n",
        "!airflow scheduler -D"
      ]
    },
    {
      "cell_type": "code",
      "execution_count": null,
      "metadata": {
        "colab": {
          "base_uri": "https://localhost:8080/"
        },
        "id": "UgEU2eMB5yd9",
        "outputId": "00a1f194-2dbb-4511-bcf8-0368401fd733"
      },
      "outputs": [],
      "source": [
        "# Эта команда просто отображет веб морду на другой адрес\n",
        "# Его вы можете найти https://dashboard.ngrok.com/endpoints/status\n",
        "# При каждом отключении ссылка будет меняться\n",
        "!nohup ngrok http -log=stdout 18273 > /dev/null &"
      ]
    },
    {
      "cell_type": "code",
      "execution_count": null,
      "metadata": {
        "id": "5RZSvfnAPHHk"
      },
      "outputs": [],
      "source": [
        "## Вам необходимо воспользоваться макросами чтобы airflow корректно обрабатывал задачу.\n",
        "from airflow import DAG\n",
        "from airflow.operators.dummy_operator import DummyOperator\n",
        "from airflow.operators.python_operator import PythonOperator\n",
        "from datetime import datetime\n",
        "\n",
        "\n",
        "def my_func(hello, date, **context):\n",
        "  print(hello)\n",
        "  print(date)\n",
        "  print(context['task'])\n",
        "\n",
        "\n",
        "with DAG('dag', schedule_interval='@daily', \n",
        "          start_date= datetime(2021,1,1),\n",
        "          end_date=datetime(2021,1,10)) as dag:\n",
        "\n",
        "  python_task    = PythonOperator(\n",
        "    task_id='python_task', \n",
        "    python_callable=my_func,\n",
        "    op_kwargs= {\n",
        "      'hello': 'Hello World',\n",
        "      'date':  '{{ execution_date }}'\n",
        "      }\n",
        "    )"
      ]
    }
  ],
  "metadata": {
    "colab": {
      "provenance": []
    },
    "kernelspec": {
      "display_name": "Python 3",
      "name": "python3"
    },
    "language_info": {
      "name": "python"
    }
  },
  "nbformat": 4,
  "nbformat_minor": 0
}
